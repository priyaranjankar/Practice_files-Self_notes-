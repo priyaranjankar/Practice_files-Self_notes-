{
 "cells": [
  {
   "cell_type": "markdown",
   "id": "e020d769",
   "metadata": {},
   "source": [
    "# OOPS - Inheritance"
   ]
  },
  {
   "cell_type": "code",
   "execution_count": 6,
   "id": "00031350",
   "metadata": {},
   "outputs": [],
   "source": [
    "# blueprint of class\n",
    "class car():\n",
    "    # intializing constructor\n",
    "    def __init__(self,windows,doors,enginetype):\n",
    "        # public methods\n",
    "        self.windows = windows\n",
    "        self.doors = doors\n",
    "        self.enginetype = enginetype\n",
    "    \n",
    "    def drive(self):\n",
    "        print('The Person drove the car')"
   ]
  },
  {
   "cell_type": "code",
   "execution_count": 7,
   "id": "2ae88252",
   "metadata": {},
   "outputs": [],
   "source": [
    "car1 = car(4,5,'Diesel')"
   ]
  },
  {
   "cell_type": "code",
   "execution_count": 8,
   "id": "50a2ddeb",
   "metadata": {},
   "outputs": [
    {
     "data": {
      "text/plain": [
       "['__class__',\n",
       " '__delattr__',\n",
       " '__dict__',\n",
       " '__dir__',\n",
       " '__doc__',\n",
       " '__eq__',\n",
       " '__format__',\n",
       " '__ge__',\n",
       " '__getattribute__',\n",
       " '__gt__',\n",
       " '__hash__',\n",
       " '__init__',\n",
       " '__init_subclass__',\n",
       " '__le__',\n",
       " '__lt__',\n",
       " '__module__',\n",
       " '__ne__',\n",
       " '__new__',\n",
       " '__reduce__',\n",
       " '__reduce_ex__',\n",
       " '__repr__',\n",
       " '__setattr__',\n",
       " '__sizeof__',\n",
       " '__str__',\n",
       " '__subclasshook__',\n",
       " '__weakref__',\n",
       " 'doors',\n",
       " 'drive',\n",
       " 'enginetype',\n",
       " 'windows']"
      ]
     },
     "execution_count": 8,
     "metadata": {},
     "output_type": "execute_result"
    }
   ],
   "source": [
    "dir(car1)"
   ]
  },
  {
   "cell_type": "code",
   "execution_count": 9,
   "id": "932fdeea",
   "metadata": {},
   "outputs": [
    {
     "name": "stdout",
     "output_type": "stream",
     "text": [
      "The Person drove the car\n"
     ]
    }
   ],
   "source": [
    "car1.drive()"
   ]
  },
  {
   "cell_type": "code",
   "execution_count": 11,
   "id": "dcff0733",
   "metadata": {},
   "outputs": [],
   "source": [
    "class audi(car):\n",
    "    def __init__(self,windows,doors,enginetype,enableai):\n",
    "        super().__init__(windows,doors,enginetype)\n",
    "        self.enableai = enableai\n",
    "    \n",
    "    def selfdriving(self):\n",
    "        print(\"Audi supports self driving\")"
   ]
  },
  {
   "cell_type": "code",
   "execution_count": 12,
   "id": "618259ae",
   "metadata": {},
   "outputs": [],
   "source": [
    "# Instantiating audi class\n",
    "\n",
    "audiQ7 = audi(5,2,'Petrol',True)"
   ]
  },
  {
   "cell_type": "code",
   "execution_count": 15,
   "id": "f9c7b706",
   "metadata": {},
   "outputs": [
    {
     "data": {
      "text/plain": [
       "['__class__',\n",
       " '__delattr__',\n",
       " '__dict__',\n",
       " '__dir__',\n",
       " '__doc__',\n",
       " '__eq__',\n",
       " '__format__',\n",
       " '__ge__',\n",
       " '__getattribute__',\n",
       " '__gt__',\n",
       " '__hash__',\n",
       " '__init__',\n",
       " '__init_subclass__',\n",
       " '__le__',\n",
       " '__lt__',\n",
       " '__module__',\n",
       " '__ne__',\n",
       " '__new__',\n",
       " '__reduce__',\n",
       " '__reduce_ex__',\n",
       " '__repr__',\n",
       " '__setattr__',\n",
       " '__sizeof__',\n",
       " '__str__',\n",
       " '__subclasshook__',\n",
       " '__weakref__',\n",
       " 'doors',\n",
       " 'drive',\n",
       " 'enableai',\n",
       " 'enginetype',\n",
       " 'selfdriving',\n",
       " 'windows']"
      ]
     },
     "execution_count": 15,
     "metadata": {},
     "output_type": "execute_result"
    }
   ],
   "source": [
    "dir(audiQ7)"
   ]
  },
  {
   "cell_type": "code",
   "execution_count": 24,
   "id": "d394cd7f",
   "metadata": {},
   "outputs": [
    {
     "name": "stdout",
     "output_type": "stream",
     "text": [
      "2\n",
      "5\n",
      "True\n"
     ]
    }
   ],
   "source": [
    "print(audiQ7.doors)\n",
    "print(audiQ7.windows)\n",
    "print(audiQ7.enableai)\n"
   ]
  },
  {
   "cell_type": "code",
   "execution_count": 25,
   "id": "512b1468",
   "metadata": {},
   "outputs": [
    {
     "name": "stdout",
     "output_type": "stream",
     "text": [
      "The Person drove the car\n"
     ]
    }
   ],
   "source": [
    "audiQ7.drive()"
   ]
  },
  {
   "cell_type": "code",
   "execution_count": 26,
   "id": "bd725a49",
   "metadata": {},
   "outputs": [
    {
     "name": "stdout",
     "output_type": "stream",
     "text": [
      "Audi supports self driving\n"
     ]
    }
   ],
   "source": [
    "audiQ7.selfdriving()"
   ]
  },
  {
   "cell_type": "markdown",
   "id": "e8407a64",
   "metadata": {},
   "source": [
    "# Magic Methods in classes"
   ]
  },
  {
   "cell_type": "code",
   "execution_count": 27,
   "id": "cdcdcdd0",
   "metadata": {},
   "outputs": [],
   "source": [
    "# blueprint of class\n",
    "class car():\n",
    "    # intializing constructor\n",
    "    def __init__(self,windows,doors,enginetype):\n",
    "        # public methods\n",
    "        self.windows = windows\n",
    "        self.doors = doors\n",
    "        self.enginetype = enginetype\n",
    "    \n",
    "    def drive(self):\n",
    "        print('The Person drove the car')"
   ]
  },
  {
   "cell_type": "code",
   "execution_count": 29,
   "id": "90f11848",
   "metadata": {},
   "outputs": [
    {
     "data": {
      "text/plain": [
       "<__main__.car at 0x24b931510f0>"
      ]
     },
     "execution_count": 29,
     "metadata": {},
     "output_type": "execute_result"
    }
   ],
   "source": [
    "c=car(4,5,'Diesel')\n",
    "c"
   ]
  },
  {
   "cell_type": "markdown",
   "id": "4f538285",
   "metadata": {},
   "source": [
    "This specifies 'c' is an object of type 'car' class at memory location 0x24b931510f0."
   ]
  },
  {
   "cell_type": "code",
   "execution_count": 30,
   "id": "ef7d6229",
   "metadata": {},
   "outputs": [
    {
     "data": {
      "text/plain": [
       "['__class__',\n",
       " '__delattr__',\n",
       " '__dict__',\n",
       " '__dir__',\n",
       " '__doc__',\n",
       " '__eq__',\n",
       " '__format__',\n",
       " '__ge__',\n",
       " '__getattribute__',\n",
       " '__gt__',\n",
       " '__hash__',\n",
       " '__init__',\n",
       " '__init_subclass__',\n",
       " '__le__',\n",
       " '__lt__',\n",
       " '__module__',\n",
       " '__ne__',\n",
       " '__new__',\n",
       " '__reduce__',\n",
       " '__reduce_ex__',\n",
       " '__repr__',\n",
       " '__setattr__',\n",
       " '__sizeof__',\n",
       " '__str__',\n",
       " '__subclasshook__',\n",
       " '__weakref__',\n",
       " 'doors',\n",
       " 'drive',\n",
       " 'enginetype',\n",
       " 'windows']"
      ]
     },
     "execution_count": 30,
     "metadata": {},
     "output_type": "execute_result"
    }
   ],
   "source": [
    "dir(c)"
   ]
  },
  {
   "cell_type": "markdown",
   "id": "0caf5fd3",
   "metadata": {},
   "source": [
    "All the attributes here with double underscore are called magic methods of this class.\n",
    "\n",
    "*Can we over-ride the magic methods?*\n",
    "#### *Yes*"
   ]
  },
  {
   "cell_type": "code",
   "execution_count": 36,
   "id": "ef68fdec",
   "metadata": {},
   "outputs": [
    {
     "data": {
      "text/plain": [
       "'<__main__.car object at 0x0000024B931510F0>'"
      ]
     },
     "execution_count": 36,
     "metadata": {},
     "output_type": "execute_result"
    }
   ],
   "source": [
    "c.__str__()"
   ]
  },
  {
   "cell_type": "code",
   "execution_count": 37,
   "id": "1b682df8",
   "metadata": {},
   "outputs": [
    {
     "data": {
      "text/plain": [
       "32"
      ]
     },
     "execution_count": 37,
     "metadata": {},
     "output_type": "execute_result"
    }
   ],
   "source": [
    "c.__sizeof__()"
   ]
  },
  {
   "cell_type": "code",
   "execution_count": 43,
   "id": "4254e235",
   "metadata": {},
   "outputs": [],
   "source": [
    "# blueprint of class\n",
    "class car():\n",
    "    # intializing constructor\n",
    "    def __init__(self,windows,doors,enginetype):\n",
    "        # public methods\n",
    "        self.windows = windows\n",
    "        self.doors = doors\n",
    "        self.enginetype = enginetype\n",
    "    \n",
    "    def __str__(self):\n",
    "        return \"The object has been initialized\"\n",
    "    \n",
    "    def __sizeof__(self):\n",
    "        return \"This displays teh size of the object\"\n",
    "    \n",
    "    def drive(self):\n",
    "        print('The Person drove the car')"
   ]
  },
  {
   "cell_type": "code",
   "execution_count": 44,
   "id": "a16c33b1",
   "metadata": {},
   "outputs": [
    {
     "data": {
      "text/plain": [
       "<__main__.car at 0x24b9314afb0>"
      ]
     },
     "execution_count": 44,
     "metadata": {},
     "output_type": "execute_result"
    }
   ],
   "source": [
    "c=car(4,5,'Diesel')\n",
    "c"
   ]
  },
  {
   "cell_type": "code",
   "execution_count": 45,
   "id": "14b0ea7b",
   "metadata": {},
   "outputs": [
    {
     "data": {
      "text/plain": [
       "'The object has been initialized'"
      ]
     },
     "execution_count": 45,
     "metadata": {},
     "output_type": "execute_result"
    }
   ],
   "source": [
    "c.__str__()"
   ]
  },
  {
   "cell_type": "code",
   "execution_count": 46,
   "id": "0e595d77",
   "metadata": {},
   "outputs": [
    {
     "data": {
      "text/plain": [
       "'This displays teh size of the object'"
      ]
     },
     "execution_count": 46,
     "metadata": {},
     "output_type": "execute_result"
    }
   ],
   "source": [
    "c.__sizeof__()"
   ]
  },
  {
   "cell_type": "code",
   "execution_count": 48,
   "id": "4c8caf3c",
   "metadata": {},
   "outputs": [
    {
     "data": {
      "text/plain": [
       "<function object.__new__(*args, **kwargs)>"
      ]
     },
     "execution_count": 48,
     "metadata": {},
     "output_type": "execute_result"
    }
   ],
   "source": [
    "c.__new__"
   ]
  },
  {
   "cell_type": "code",
   "execution_count": null,
   "id": "92055a34",
   "metadata": {},
   "outputs": [],
   "source": []
  },
  {
   "cell_type": "code",
   "execution_count": null,
   "id": "50e23d06",
   "metadata": {},
   "outputs": [],
   "source": []
  }
 ],
 "metadata": {
  "kernelspec": {
   "display_name": "Python 3 (ipykernel)",
   "language": "python",
   "name": "python3"
  },
  "language_info": {
   "codemirror_mode": {
    "name": "ipython",
    "version": 3
   },
   "file_extension": ".py",
   "mimetype": "text/x-python",
   "name": "python",
   "nbconvert_exporter": "python",
   "pygments_lexer": "ipython3",
   "version": "3.10.9"
  }
 },
 "nbformat": 4,
 "nbformat_minor": 5
}
