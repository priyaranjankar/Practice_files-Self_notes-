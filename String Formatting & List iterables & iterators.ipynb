{
 "cells": [
  {
   "cell_type": "markdown",
   "id": "c1e42568",
   "metadata": {},
   "source": [
    "## String Formatting"
   ]
  },
  {
   "cell_type": "code",
   "execution_count": 1,
   "id": "592e9238",
   "metadata": {},
   "outputs": [
    {
     "name": "stdout",
     "output_type": "stream",
     "text": [
      "Never Give Up!!\n"
     ]
    }
   ],
   "source": [
    "print(\"Never Give Up!!\")"
   ]
  },
  {
   "cell_type": "code",
   "execution_count": 2,
   "id": "5fc58e68",
   "metadata": {},
   "outputs": [],
   "source": [
    "strs= \"Never Give Up!!\""
   ]
  },
  {
   "cell_type": "code",
   "execution_count": 3,
   "id": "fb0b1dcd",
   "metadata": {},
   "outputs": [],
   "source": [
    "def greeting(name):\n",
    "    return \"{} , {}\".format(name,strs)"
   ]
  },
  {
   "cell_type": "code",
   "execution_count": 4,
   "id": "c9d3af88",
   "metadata": {},
   "outputs": [
    {
     "data": {
      "text/plain": [
       "'Priyranjan , Never Give Up!!'"
      ]
     },
     "execution_count": 4,
     "metadata": {},
     "output_type": "execute_result"
    }
   ],
   "source": [
    "greeting('Priyranjan')"
   ]
  },
  {
   "cell_type": "markdown",
   "id": "ebad8543",
   "metadata": {},
   "source": [
    "## Python list iterables vs Iterators"
   ]
  },
  {
   "cell_type": "code",
   "execution_count": 5,
   "id": "9e2c0fe7",
   "metadata": {},
   "outputs": [
    {
     "name": "stdout",
     "output_type": "stream",
     "text": [
      "1\n",
      "2\n",
      "3\n",
      "4\n",
      "5\n",
      "6\n",
      "7\n",
      "8\n"
     ]
    }
   ],
   "source": [
    "# List are iterables\n",
    "\n",
    "list1 = [1,2,3,4,5,6,7,8]\n",
    "for i in list1:\n",
    "    print(i)"
   ]
  },
  {
   "cell_type": "code",
   "execution_count": 6,
   "id": "93962a2d",
   "metadata": {},
   "outputs": [
    {
     "data": {
      "text/plain": [
       "1"
      ]
     },
     "execution_count": 6,
     "metadata": {},
     "output_type": "execute_result"
    }
   ],
   "source": [
    "# Iterators\n",
    "# memory not allocated yet to this iterator object\n",
    "list1 = iter(list1)\n",
    "next(list1)"
   ]
  },
  {
   "cell_type": "markdown",
   "id": "c4088918",
   "metadata": {},
   "source": [
    "Here, the next() function pushes out the next element in the list in the line. It depends on the number of times thsi si executed. As we had 8 elements, thsi will give 8 elements whiel we execute it 8 times & after that throw error.\n",
    "\n",
    "- Now, if we want to print out the elements similarly as we did by traditionally calling a for loop, we can just pass this iterator to the for loop:"
   ]
  },
  {
   "cell_type": "code",
   "execution_count": 8,
   "id": "aeb71244",
   "metadata": {},
   "outputs": [
    {
     "name": "stdout",
     "output_type": "stream",
     "text": [
      "1\n",
      "2\n",
      "3\n",
      "4\n",
      "5\n",
      "6\n",
      "7\n",
      "8\n"
     ]
    }
   ],
   "source": [
    "list1 = [1,2,3,4,5,6,7,8]\n",
    "list1 = iter(list1)\n",
    "for i in list1:\n",
    "    print(i)"
   ]
  },
  {
   "cell_type": "markdown",
   "id": "a862a68a",
   "metadata": {},
   "source": [
    "### *Why?*\n",
    "\n",
    "- Using iterators will allocate memory dynamically for each element in teh list instead of having it pre-allocated as a list for our operations. \n",
    "    - memory optimization\n",
    "    - code optimization\n",
    "    \n",
    "- NOTE: The STopIteration exception which woudl have come in next(iter(list)) command after reaching the last element , is handled in teh for loops."
   ]
  },
  {
   "cell_type": "code",
   "execution_count": null,
   "id": "c4d50406",
   "metadata": {},
   "outputs": [],
   "source": []
  },
  {
   "cell_type": "code",
   "execution_count": null,
   "id": "3f2185b8",
   "metadata": {},
   "outputs": [],
   "source": []
  },
  {
   "cell_type": "code",
   "execution_count": null,
   "id": "f79c0d08",
   "metadata": {},
   "outputs": [],
   "source": []
  }
 ],
 "metadata": {
  "kernelspec": {
   "display_name": "Python 3 (ipykernel)",
   "language": "python",
   "name": "python3"
  },
  "language_info": {
   "codemirror_mode": {
    "name": "ipython",
    "version": 3
   },
   "file_extension": ".py",
   "mimetype": "text/x-python",
   "name": "python",
   "nbconvert_exporter": "python",
   "pygments_lexer": "ipython3",
   "version": "3.10.9"
  }
 },
 "nbformat": 4,
 "nbformat_minor": 5
}
