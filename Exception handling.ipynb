{
 "cells": [
  {
   "cell_type": "markdown",
   "id": "482d65ca",
   "metadata": {},
   "source": [
    "# Exception handling"
   ]
  },
  {
   "cell_type": "markdown",
   "id": "179d8371",
   "metadata": {},
   "source": [
    "inside 'try' block, we need to write the code where exception can occur. ( simialr to try-cath in SAP)"
   ]
  },
  {
   "cell_type": "code",
   "execution_count": 14,
   "id": "35c25522",
   "metadata": {},
   "outputs": [],
   "source": [
    "# a=b\n",
    "\n",
    "#---------------------------------------------------------------------------\n",
    "#NameError                                 Traceback (most recent call last)\n",
    "#Cell In[1], line 1\n",
    "#----> 1 a=b\n",
    "\n",
    "#NameError: name 'b' is not defined\n"
   ]
  },
  {
   "cell_type": "code",
   "execution_count": 2,
   "id": "622781fd",
   "metadata": {},
   "outputs": [
    {
     "name": "stdout",
     "output_type": "stream",
     "text": [
      "Uh Oh! Something is wrong\n"
     ]
    }
   ],
   "source": [
    "# First Code block\n",
    "try:\n",
    "    ##code block for exception scenarios\n",
    "    a=b\n",
    "except:\n",
    "    print('Uh Oh! Something is wrong')"
   ]
  },
  {
   "cell_type": "code",
   "execution_count": 3,
   "id": "c48df62c",
   "metadata": {},
   "outputs": [
    {
     "name": "stdout",
     "output_type": "stream",
     "text": [
      "name 'b' is not defined\n"
     ]
    }
   ],
   "source": [
    "# Second Code block\n",
    "try:\n",
    "    ##code block for exception scenarios\n",
    "    a=b\n",
    "except Exception as ex:\n",
    "    print(ex)"
   ]
  },
  {
   "cell_type": "code",
   "execution_count": 4,
   "id": "71921553",
   "metadata": {},
   "outputs": [
    {
     "name": "stdout",
     "output_type": "stream",
     "text": [
      "You need to define the variable b.\n"
     ]
    }
   ],
   "source": [
    "# Third code block\n",
    "try:\n",
    "    ##code block for exception scenarios\n",
    "    a=b\n",
    "except NameError:\n",
    "    print(\"You need to define the variable b.\")\n",
    "except Exception as ex1:\n",
    "    print(ex1)"
   ]
  },
  {
   "cell_type": "markdown",
   "id": "95957104",
   "metadata": {},
   "source": [
    "First code block:\n",
    "- we gave an expression a=b which should throw us error: 'name b is not defined'\n",
    "- since we gave it an exception , we are now trying to print the statement we defined as the output instead of error.\n",
    "\n",
    "Second code block:\n",
    "- we gave the same expression\n",
    "- But this time we specified the exception as the exact error that occurs & we set it to print.\n",
    "\n",
    "Third Code block:\n",
    "- Using the same expression\n",
    "- But this time we specified the exception with the exact error name .i.e \"NameError\" ( we got this when we just execute the expression.)\n",
    "    - And in that , we set it to print our error message( whatever we like).\n",
    "- Post that we specify the exception as generic one & print out the error like we did in second code block ( to handle any other errors we have not specified in exception.)\n",
    "\n",
    "\n",
    "#### *NOTE*\n",
    "- We need to specify all our exceptions( all possible errors we know before the generic Exception scenario).\n",
    "    - Generic Exception clause will go at last , or else it will get trigerred the moment any exception which isnt specified in that sequence occurs."
   ]
  },
  {
   "cell_type": "markdown",
   "id": "2f54af7d",
   "metadata": {},
   "source": [
    "#### Using *try-else*"
   ]
  },
  {
   "cell_type": "code",
   "execution_count": 7,
   "id": "5e17f3b2",
   "metadata": {},
   "outputs": [
    {
     "name": "stdout",
     "output_type": "stream",
     "text": [
      "Enter the number 1: 12\n",
      "Enter the number 2: 6\n",
      "Multiplication: 72\n",
      "Addition: 18\n",
      "Division: 2.0\n"
     ]
    }
   ],
   "source": [
    "try:\n",
    "    a=int(input(\"Enter the number 1: \"))\n",
    "    b=int(input(\"Enter the number 2: \"))\n",
    "    c=a*b\n",
    "    d=a+b\n",
    "    e=a/b\n",
    "\n",
    "except ValueError:\n",
    "    print(\"You need to provide numerical value\")\n",
    "except ZeroDivisionError:\n",
    "    print(\"Provide numbers > 0\")\n",
    "except NameError:\n",
    "    print(\"You need to define the variable b.\")\n",
    "except TypeError:\n",
    "    print(\"You have to provide similar datatype\")\n",
    "except Exception as ex:\n",
    "    print(ex)\n",
    "    \n",
    "else:\n",
    "    print(\"Multiplication: {}\".format(c))\n",
    "    print(\"Addition: {}\".format(d))\n",
    "    print(\"Division: {}\".format(e))    "
   ]
  },
  {
   "cell_type": "code",
   "execution_count": 13,
   "id": "b8ebc1d3",
   "metadata": {},
   "outputs": [
    {
     "name": "stdout",
     "output_type": "stream",
     "text": [
      "Enter the number 1: 13\n",
      "Enter the number 2: red\n",
      "Error: You need to provide numerical value\n",
      "Execution Completed\n"
     ]
    }
   ],
   "source": [
    "# try-else-finally\n",
    "\n",
    "try:\n",
    "    a=int(input(\"Enter the number 1: \"))\n",
    "    b=int(input(\"Enter the number 2: \"))\n",
    "    c=a*b\n",
    "    d=a+b\n",
    "    e=a/b\n",
    "\n",
    "except ValueError:\n",
    "    print(\"Error: You need to provide numerical value\")\n",
    "except ZeroDivisionError:\n",
    "    print(\"Error: Provide numbers > 0\")\n",
    "except NameError:\n",
    "    print(\"Error: You need to define the variable b.\")\n",
    "except TypeError:\n",
    "    print(\"Error: You have to provide similar datatype\")\n",
    "except Exception as ex:\n",
    "    print(ex)\n",
    "    \n",
    "else:\n",
    "    print(\"Multiplication: {}\".format(c))\n",
    "    print(\"Addition: {}\".format(d))\n",
    "    print(\"Division: {}\".format(e))\n",
    "    \n",
    "finally:\n",
    "    print(\"Execution Completed\")"
   ]
  },
  {
   "cell_type": "markdown",
   "id": "c860d852",
   "metadata": {},
   "source": [
    "'finally' gets executed no matter exception happens or passes. Thsi block should have the generic error message or checkpoint that this code was executed."
   ]
  }
 ],
 "metadata": {
  "kernelspec": {
   "display_name": "Python 3 (ipykernel)",
   "language": "python",
   "name": "python3"
  },
  "language_info": {
   "codemirror_mode": {
    "name": "ipython",
    "version": 3
   },
   "file_extension": ".py",
   "mimetype": "text/x-python",
   "name": "python",
   "nbconvert_exporter": "python",
   "pygments_lexer": "ipython3",
   "version": "3.10.9"
  }
 },
 "nbformat": 4,
 "nbformat_minor": 5
}
