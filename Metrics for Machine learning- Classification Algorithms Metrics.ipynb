{
 "cells": [
  {
   "cell_type": "markdown",
   "id": "264bf1db",
   "metadata": {},
   "source": [
    "# Classification Problem statement:\n",
    "\n",
    "#### - either through class labels ( different categories)\n",
    "#### - or through probabilities ( based on threshold - find class labels or categories)\n",
    "\n",
    "Objective: Try to reduce our Type-1 Error & Type-2 error.\n",
    "### Metrics used:\n",
    "1. Confusion matrix : \n",
    "    - 2*2 matrix ( top : Actual, left: predicted)\n",
    "2. FPR : False positive Rate ( Type 1 error )\n",
    "    - FPR = FP/(FP + TN)\n",
    "3. FNR : False Negative Rate ( Type 2 error )\n",
    "    - FNR = FN/(FN + TP)\n",
    "4. Recall ( TPR / Sensitivity):\n",
    "    - Number of correct prediction out of actual true \n",
    "    - Recall = TP / (TP + FN)\n",
    "5. Precision : Positive prediction value: \n",
    "    - Total actual true values out of predicted true values\n",
    "    - Precision = TP/ (TP + FP)\n",
    "6. Accuracy: \n",
    "    - (TP+TN) / (TP + TN + FP + FN)\n",
    "7. F-Beta\n",
    "8. Cohen-Kappa\n",
    "9. ROC Curve, AUC score\n",
    "10. PR curve\n",
    "11.\n",
    "12.\n",
    "\n",
    "\n",
    "### Scenarios where it is used:\n",
    "\n",
    "##### - Balanced categories ( Balanced dataset with respect to classes or categories):\n",
    "    - Model isn't biased.\n",
    "    - Metric to check: \n",
    "        - Accuracy\n",
    "##### - Imbalanced categories ( Imbalanced dataset with respect to classes or categories):\n",
    "    - Model is biased.\n",
    "    - Metric to check: \n",
    "        - Recall : When FN is important to be reduced ( ex: Cancer detection, detected no cancer but actually had cancer)\n",
    "        - Precision : When FP is important to be reduced (ex: spam classifier, detected spam but isnt actually spam)\n",
    "        - F-Beta -> derive F1 score ( WHen both FP & FN are important to be reduced)\n",
    "            - F-Beta = (1 + Beta^2) * Precision * Recall / (Beta^2)*Precision + Recall\n",
    "                 - F1-Score = 2*Precision * Recall / ( Precision + Recall) --------------taking Beta = 1\n",
    "                    - Why? both FN & FP are equally important to be reduced.\n",
    "                 - When FN > FP to be reduced, change Beta values ( > 1 - mostly 2 used)\n",
    "                 - When FP > FN to be reduced, change Beta values ( < 1 - mostly 0.5 used)"
   ]
  },
  {
   "cell_type": "code",
   "execution_count": null,
   "id": "0b0919cb",
   "metadata": {},
   "outputs": [],
   "source": []
  },
  {
   "cell_type": "code",
   "execution_count": null,
   "id": "2119b1d2",
   "metadata": {},
   "outputs": [],
   "source": []
  },
  {
   "cell_type": "code",
   "execution_count": null,
   "id": "58954648",
   "metadata": {},
   "outputs": [],
   "source": []
  },
  {
   "cell_type": "code",
   "execution_count": null,
   "id": "bd01c64d",
   "metadata": {},
   "outputs": [],
   "source": []
  },
  {
   "cell_type": "code",
   "execution_count": null,
   "id": "53a2dcab",
   "metadata": {},
   "outputs": [],
   "source": []
  },
  {
   "cell_type": "code",
   "execution_count": null,
   "id": "be2fe51d",
   "metadata": {},
   "outputs": [],
   "source": []
  },
  {
   "cell_type": "code",
   "execution_count": null,
   "id": "24ba644a",
   "metadata": {},
   "outputs": [],
   "source": []
  },
  {
   "cell_type": "code",
   "execution_count": null,
   "id": "b4d50193",
   "metadata": {},
   "outputs": [],
   "source": []
  },
  {
   "cell_type": "code",
   "execution_count": null,
   "id": "1e55cb6f",
   "metadata": {},
   "outputs": [],
   "source": []
  }
 ],
 "metadata": {
  "kernelspec": {
   "display_name": "Python 3 (ipykernel)",
   "language": "python",
   "name": "python3"
  },
  "language_info": {
   "codemirror_mode": {
    "name": "ipython",
    "version": 3
   },
   "file_extension": ".py",
   "mimetype": "text/x-python",
   "name": "python",
   "nbconvert_exporter": "python",
   "pygments_lexer": "ipython3",
   "version": "3.10.9"
  }
 },
 "nbformat": 4,
 "nbformat_minor": 5
}
