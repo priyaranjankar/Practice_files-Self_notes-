{
 "cells": [
  {
   "cell_type": "markdown",
   "id": "6bc23676",
   "metadata": {},
   "source": [
    "# Exception handling"
   ]
  },
  {
   "cell_type": "markdown",
   "id": "c73064f7",
   "metadata": {},
   "source": [
    "inside 'try' block, we need to write the code where exception can occur. ( simialr to try-cath in SAP)"
   ]
  },
  {
   "cell_type": "code",
   "execution_count": 14,
   "id": "b5fa46f8",
   "metadata": {},
   "outputs": [],
   "source": [
    "# a=b\n",
    "\n",
    "#---------------------------------------------------------------------------\n",
    "#NameError                                 Traceback (most recent call last)\n",
    "#Cell In[1], line 1\n",
    "#----> 1 a=b\n",
    "\n",
    "#NameError: name 'b' is not defined\n"
   ]
  },
  {
   "cell_type": "code",
   "execution_count": 2,
   "id": "9ef84df9",
   "metadata": {},
   "outputs": [
    {
     "name": "stdout",
     "output_type": "stream",
     "text": [
      "Uh Oh! Something is wrong\n"
     ]
    }
   ],
   "source": [
    "# First Code block\n",
    "try:\n",
    "    ##code block for exception scenarios\n",
    "    a=b\n",
    "except:\n",
    "    print('Uh Oh! Something is wrong')"
   ]
  },
  {
   "cell_type": "code",
   "execution_count": 3,
   "id": "48e0b0e4",
   "metadata": {},
   "outputs": [
    {
     "name": "stdout",
     "output_type": "stream",
     "text": [
      "name 'b' is not defined\n"
     ]
    }
   ],
   "source": [
    "# Second Code block\n",
    "try:\n",
    "    ##code block for exception scenarios\n",
    "    a=b\n",
    "except Exception as ex:\n",
    "    print(ex)"
   ]
  },
  {
   "cell_type": "code",
   "execution_count": 4,
   "id": "14dc63ca",
   "metadata": {},
   "outputs": [
    {
     "name": "stdout",
     "output_type": "stream",
     "text": [
      "You need to define the variable b.\n"
     ]
    }
   ],
   "source": [
    "# Third code block\n",
    "try:\n",
    "    ##code block for exception scenarios\n",
    "    a=b\n",
    "except NameError:\n",
    "    print(\"You need to define the variable b.\")\n",
    "except Exception as ex1:\n",
    "    print(ex1)"
   ]
  },
  {
   "cell_type": "markdown",
   "id": "7c3d119c",
   "metadata": {},
   "source": [
    "First code block:\n",
    "- we gave an expression a=b which should throw us error: 'name b is not defined'\n",
    "- since we gave it an exception , we are now trying to print the statement we defined as the output instead of error.\n",
    "\n",
    "Second code block:\n",
    "- we gave the same expression\n",
    "- But this time we specified the exception as the exact error that occurs & we set it to print.\n",
    "\n",
    "Third Code block:\n",
    "- Using the same expression\n",
    "- But this time we specified the exception with the exact error name .i.e \"NameError\" ( we got this when we just execute the expression.)\n",
    "    - And in that , we set it to print our error message( whatever we like).\n",
    "- Post that we specify the exception as generic one & print out the error like we did in second code block ( to handle any other errors we have not specified in exception.)\n",
    "\n",
    "\n",
    "#### *NOTE*\n",
    "- We need to specify all our exceptions( all possible errors we know before the generic Exception scenario).\n",
    "    - Generic Exception clause will go at last , or else it will get trigerred the moment any exception which isnt specified in that sequence occurs."
   ]
  },
  {
   "cell_type": "markdown",
   "id": "f7576158",
   "metadata": {},
   "source": [
    "#### Using *try-else*"
   ]
  },
  {
   "cell_type": "code",
   "execution_count": 7,
   "id": "9f23f71c",
   "metadata": {},
   "outputs": [
    {
     "name": "stdout",
     "output_type": "stream",
     "text": [
      "Enter the number 1: 12\n",
      "Enter the number 2: 6\n",
      "Multiplication: 72\n",
      "Addition: 18\n",
      "Division: 2.0\n"
     ]
    }
   ],
   "source": [
    "try:\n",
    "    a=int(input(\"Enter the number 1: \"))\n",
    "    b=int(input(\"Enter the number 2: \"))\n",
    "    c=a*b\n",
    "    d=a+b\n",
    "    e=a/b\n",
    "\n",
    "except ValueError:\n",
    "    print(\"You need to provide numerical value\")\n",
    "except ZeroDivisionError:\n",
    "    print(\"Provide numbers > 0\")\n",
    "except NameError:\n",
    "    print(\"You need to define the variable b.\")\n",
    "except TypeError:\n",
    "    print(\"You have to provide similar datatype\")\n",
    "except Exception as ex:\n",
    "    print(ex)\n",
    "    \n",
    "else:\n",
    "    print(\"Multiplication: {}\".format(c))\n",
    "    print(\"Addition: {}\".format(d))\n",
    "    print(\"Division: {}\".format(e))    "
   ]
  },
  {
   "cell_type": "code",
   "execution_count": 13,
   "id": "b36ca8e3",
   "metadata": {},
   "outputs": [
    {
     "name": "stdout",
     "output_type": "stream",
     "text": [
      "Enter the number 1: 13\n",
      "Enter the number 2: red\n",
      "Error: You need to provide numerical value\n",
      "Execution Completed\n"
     ]
    }
   ],
   "source": [
    "# try-else-finally\n",
    "\n",
    "try:\n",
    "    a=int(input(\"Enter the number 1: \"))\n",
    "    b=int(input(\"Enter the number 2: \"))\n",
    "    c=a*b\n",
    "    d=a+b\n",
    "    e=a/b\n",
    "\n",
    "except ValueError:\n",
    "    print(\"Error: You need to provide numerical value\")\n",
    "except ZeroDivisionError:\n",
    "    print(\"Error: Provide numbers > 0\")\n",
    "except NameError:\n",
    "    print(\"Error: You need to define the variable b.\")\n",
    "except TypeError:\n",
    "    print(\"Error: You have to provide similar datatype\")\n",
    "except Exception as ex:\n",
    "    print(ex)\n",
    "    \n",
    "else:\n",
    "    print(\"Multiplication: {}\".format(c))\n",
    "    print(\"Addition: {}\".format(d))\n",
    "    print(\"Division: {}\".format(e))\n",
    "    \n",
    "finally:\n",
    "    print(\"Execution Completed\")"
   ]
  },
  {
   "cell_type": "markdown",
   "id": "3d3e922b",
   "metadata": {},
   "source": [
    "'finally' gets executed no matter exception happens or passes. Thsi block should have the generic error message or checkpoint that this code was executed."
   ]
  },
  {
   "cell_type": "markdown",
   "id": "44a27659",
   "metadata": {},
   "source": [
    "## Custom Exceptions\n",
    "- There might be scenarios where i want my code to raise some custom errors which are specific to my requrieemnt like age isnt valid, name not found, expired password etc.\n",
    "- To handle those scenarios I need to specify those exceptions separately in a class.\n",
    "\n",
    "    - I dont want the process to proceed if age is more than 30 years & less than 20 years.\n",
    "        - So, I have create a class 'error' which inherits the class 'Exception' available in python."
   ]
  },
  {
   "cell_type": "code",
   "execution_count": 15,
   "id": "f7711f92",
   "metadata": {},
   "outputs": [],
   "source": [
    "class error(Exception):\n",
    "    pass \n",
    "\n",
    "class dobException(error):\n",
    "    pass\n",
    "\n",
    "class customgeneric(error):\n",
    "    pass"
   ]
  },
  {
   "cell_type": "code",
   "execution_count": 21,
   "id": "5b2a2295",
   "metadata": {},
   "outputs": [
    {
     "name": "stdout",
     "output_type": "stream",
     "text": [
      "Year of Birth: 1999\n",
      "Valid age. You can proceed\n"
     ]
    }
   ],
   "source": [
    "year=int(input(\"Year of Birth: \"))\n",
    "age = 2023-year\n",
    "\n",
    "try:\n",
    "    if age <=30 & age >20:\n",
    "        print(\"Valid age. You can proceed\")\n",
    "    else:\n",
    "        raise dobException\n",
    "except dobException:\n",
    "    print(\"Invalid age. You cannot proceed\")"
   ]
  },
  {
   "cell_type": "markdown",
   "id": "2a84cfe9",
   "metadata": {},
   "source": [
    "First raising the exception & then catching it in our except clause."
   ]
  },
  {
   "cell_type": "code",
   "execution_count": null,
   "id": "cbec8bbc",
   "metadata": {},
   "outputs": [],
   "source": []
  },
  {
   "cell_type": "code",
   "execution_count": null,
   "id": "979f1b08",
   "metadata": {},
   "outputs": [],
   "source": []
  },
  {
   "cell_type": "code",
   "execution_count": null,
   "id": "378c3dbd",
   "metadata": {},
   "outputs": [],
   "source": []
  },
  {
   "cell_type": "code",
   "execution_count": null,
   "id": "523d44de",
   "metadata": {},
   "outputs": [],
   "source": []
  }
 ],
 "metadata": {
  "kernelspec": {
   "display_name": "Python 3 (ipykernel)",
   "language": "python",
   "name": "python3"
  },
  "language_info": {
   "codemirror_mode": {
    "name": "ipython",
    "version": 3
   },
   "file_extension": ".py",
   "mimetype": "text/x-python",
   "name": "python",
   "nbconvert_exporter": "python",
   "pygments_lexer": "ipython3",
   "version": "3.10.9"
  }
 },
 "nbformat": 4,
 "nbformat_minor": 5
}
