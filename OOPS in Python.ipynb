{
 "cells": [
  {
   "cell_type": "markdown",
   "id": "207e9145",
   "metadata": {},
   "source": [
    "# OOPS in python\n",
    "- Defining class"
   ]
  },
  {
   "cell_type": "code",
   "execution_count": 7,
   "id": "b31a8906",
   "metadata": {},
   "outputs": [],
   "source": [
    "#blueprint of a class\n",
    "class car:\n",
    "    pass"
   ]
  },
  {
   "cell_type": "code",
   "execution_count": 8,
   "id": "13a8d915",
   "metadata": {},
   "outputs": [],
   "source": [
    "car1=car()"
   ]
  },
  {
   "cell_type": "code",
   "execution_count": 9,
   "id": "003bbe60",
   "metadata": {},
   "outputs": [
    {
     "data": {
      "text/plain": [
       "<__main__.car at 0x2409deaabf0>"
      ]
     },
     "execution_count": 9,
     "metadata": {},
     "output_type": "execute_result"
    }
   ],
   "source": [
    "car1"
   ]
  },
  {
   "cell_type": "code",
   "execution_count": 13,
   "id": "1ef91bb8",
   "metadata": {},
   "outputs": [],
   "source": [
    "car1.windows=5\n",
    "car1.doors=4"
   ]
  },
  {
   "cell_type": "code",
   "execution_count": 12,
   "id": "6372d4b6",
   "metadata": {},
   "outputs": [
    {
     "data": {
      "text/plain": [
       "5"
      ]
     },
     "execution_count": 12,
     "metadata": {},
     "output_type": "execute_result"
    }
   ],
   "source": [
    "car1.windows"
   ]
  },
  {
   "cell_type": "code",
   "execution_count": 14,
   "id": "52df1e56",
   "metadata": {},
   "outputs": [
    {
     "data": {
      "text/plain": [
       "['__class__',\n",
       " '__delattr__',\n",
       " '__dict__',\n",
       " '__dir__',\n",
       " '__doc__',\n",
       " '__eq__',\n",
       " '__format__',\n",
       " '__ge__',\n",
       " '__getattribute__',\n",
       " '__gt__',\n",
       " '__hash__',\n",
       " '__init__',\n",
       " '__init_subclass__',\n",
       " '__le__',\n",
       " '__lt__',\n",
       " '__module__',\n",
       " '__ne__',\n",
       " '__new__',\n",
       " '__reduce__',\n",
       " '__reduce_ex__',\n",
       " '__repr__',\n",
       " '__setattr__',\n",
       " '__sizeof__',\n",
       " '__str__',\n",
       " '__subclasshook__',\n",
       " '__weakref__',\n",
       " 'doors',\n",
       " 'windows']"
      ]
     },
     "execution_count": 14,
     "metadata": {},
     "output_type": "execute_result"
    }
   ],
   "source": [
    "dir(car1)"
   ]
  },
  {
   "cell_type": "markdown",
   "id": "c094a747",
   "metadata": {},
   "source": [
    "Here we didnt give any set number of attributes in our blueprint. So technically any developer can now create any number of attributes such as windows, doors, brakes etc. \n",
    "- Instead we need to define our custom attributes in our class.\n",
    "- We can see the attributes present in a class by dir(class_name)\n",
    "    - '__init__' attribute here acts like a \"constructor\".\n",
    "        - Constructor is used to initialize how many properties we are using from class."
   ]
  },
  {
   "cell_type": "code",
   "execution_count": 15,
   "id": "026bc7eb",
   "metadata": {},
   "outputs": [],
   "source": [
    "#blueprint of a class\n",
    "class car:\n",
    "    def __init__(self,window,door,engine):\n",
    "        self.windows = window\n",
    "        self.door = door\n",
    "        self.engine = engine\n",
    "    "
   ]
  },
  {
   "cell_type": "markdown",
   "id": "15101dca",
   "metadata": {},
   "source": [
    "*Explanation*:\n",
    "\n",
    "Here, we provided the __init__ function with attributes such as window, door, engine which instantiates the class car() from now on with these attributes. \n",
    "\n",
    "#### So, technically we are making these arguments mandatory(*args) for any object of this class."
   ]
  },
  {
   "cell_type": "code",
   "execution_count": 19,
   "id": "1ef2924e",
   "metadata": {},
   "outputs": [],
   "source": [
    "# Now when I provide the object of this class with these values in arguments, \n",
    "# it will store attributes of car1 with those values.\n",
    "car1=car(5,4,'Petrol')"
   ]
  },
  {
   "cell_type": "code",
   "execution_count": 20,
   "id": "8870c004",
   "metadata": {},
   "outputs": [
    {
     "data": {
      "text/plain": [
       "['__class__',\n",
       " '__delattr__',\n",
       " '__dict__',\n",
       " '__dir__',\n",
       " '__doc__',\n",
       " '__eq__',\n",
       " '__format__',\n",
       " '__ge__',\n",
       " '__getattribute__',\n",
       " '__gt__',\n",
       " '__hash__',\n",
       " '__init__',\n",
       " '__init_subclass__',\n",
       " '__le__',\n",
       " '__lt__',\n",
       " '__module__',\n",
       " '__ne__',\n",
       " '__new__',\n",
       " '__reduce__',\n",
       " '__reduce_ex__',\n",
       " '__repr__',\n",
       " '__setattr__',\n",
       " '__sizeof__',\n",
       " '__str__',\n",
       " '__subclasshook__',\n",
       " '__weakref__',\n",
       " 'door',\n",
       " 'engine',\n",
       " 'windows']"
      ]
     },
     "execution_count": 20,
     "metadata": {},
     "output_type": "execute_result"
    }
   ],
   "source": [
    "dir(car1)"
   ]
  },
  {
   "cell_type": "markdown",
   "id": "fd8b7883",
   "metadata": {},
   "source": [
    "- The 'self' parameter gets initialized for the object 'Car1' ( it basically takes the reference of the object car1).\n",
    "- Then, it sets the values provided in the arguments as attributes values defined earlier."
   ]
  },
  {
   "cell_type": "code",
   "execution_count": 21,
   "id": "3200472a",
   "metadata": {},
   "outputs": [],
   "source": [
    "car2=car(3,4,'diesel')"
   ]
  },
  {
   "cell_type": "code",
   "execution_count": 26,
   "id": "dc6e97ab",
   "metadata": {},
   "outputs": [
    {
     "name": "stdout",
     "output_type": "stream",
     "text": [
      "Car1 has 5 windows.\n",
      "Car2 has diesel engine.\n"
     ]
    }
   ],
   "source": [
    "print(\"Car1 has {} windows.\".format(car1.windows))\n",
    "print(\"Car2 has {} engine.\".format(car2.engine))"
   ]
  },
  {
   "cell_type": "markdown",
   "id": "d6650f55",
   "metadata": {},
   "source": [
    "Instead of taking out values from this, we can also define our methods inside the class to do that."
   ]
  },
  {
   "cell_type": "code",
   "execution_count": 36,
   "id": "fe66190d",
   "metadata": {},
   "outputs": [],
   "source": [
    "#blueprint of a class\n",
    "class car:\n",
    "    def __init__(self,window,door,engine):\n",
    "        self.windows = window\n",
    "        self.door = door\n",
    "        self.engine = engine\n",
    "        \n",
    "    def self_driving(self):\n",
    "        return \"This is a {} engine type.\".format(self.engine)"
   ]
  },
  {
   "cell_type": "code",
   "execution_count": 37,
   "id": "c02a3009",
   "metadata": {},
   "outputs": [
    {
     "data": {
      "text/plain": [
       "'This is a petrol engine type.'"
      ]
     },
     "execution_count": 37,
     "metadata": {},
     "output_type": "execute_result"
    }
   ],
   "source": [
    "car1=car(4,5,'petrol')\n",
    "car1.self_driving()"
   ]
  },
  {
   "cell_type": "markdown",
   "id": "5af7fbf9",
   "metadata": {},
   "source": [
    "Here, I am only calling the method for car1. ( I have to instantiate the class first)"
   ]
  }
 ],
 "metadata": {
  "kernelspec": {
   "display_name": "Python 3 (ipykernel)",
   "language": "python",
   "name": "python3"
  },
  "language_info": {
   "codemirror_mode": {
    "name": "ipython",
    "version": 3
   },
   "file_extension": ".py",
   "mimetype": "text/x-python",
   "name": "python",
   "nbconvert_exporter": "python",
   "pygments_lexer": "ipython3",
   "version": "3.10.9"
  }
 },
 "nbformat": 4,
 "nbformat_minor": 5
}
