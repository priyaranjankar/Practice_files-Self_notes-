{
 "cells": [
  {
   "cell_type": "markdown",
   "id": "1e1e8b5e",
   "metadata": {},
   "source": [
    "# Python functions, positional & keywords arguments"
   ]
  },
  {
   "cell_type": "markdown",
   "id": "0792c283",
   "metadata": {},
   "source": [
    "- ### Positional argument & Keyword argument\n",
    "    - any parameter which is not assigned to any value in definition is positional argument.\n",
    "    - if parameter is provided in a key-value pair ( assigned to value in definition) is keyword argument."
   ]
  },
  {
   "cell_type": "code",
   "execution_count": 2,
   "id": "3a16138d",
   "metadata": {},
   "outputs": [],
   "source": [
    "def status(name,age=29):\n",
    "    print(\"My name is {} & my age is {}\".format(name,age))"
   ]
  },
  {
   "cell_type": "code",
   "execution_count": 6,
   "id": "b5b18718",
   "metadata": {},
   "outputs": [
    {
     "name": "stdout",
     "output_type": "stream",
     "text": [
      "My name is Priyaranjan & my age is 29\n"
     ]
    }
   ],
   "source": [
    "status('Priyaranjan')"
   ]
  },
  {
   "cell_type": "code",
   "execution_count": 7,
   "id": "d36df59b",
   "metadata": {},
   "outputs": [
    {
     "name": "stdout",
     "output_type": "stream",
     "text": [
      "My name is Priyaranjan & my age is 22\n"
     ]
    }
   ],
   "source": [
    "status('Priyaranjan',age=22)"
   ]
  },
  {
   "cell_type": "markdown",
   "id": "3204e097",
   "metadata": {},
   "source": [
    "Here , the first parameter 'name' is a positional argument & the second parameter which has been assigned value 29 in defintion is 'keyword' argument.\n",
    " - if requried, the keyword argument can be provided with own value during function call. By default it would use the value assigned in definition.\n",
    " \n",
    " - Positional arguments are mandatory to be provided in function call.\n",
    " - Keyword arguments are optional to be provided in function call."
   ]
  },
  {
   "cell_type": "markdown",
   "id": "724fa4b9",
   "metadata": {},
   "source": [
    "- ### Another way of defining positional & keyword arguments."
   ]
  },
  {
   "cell_type": "code",
   "execution_count": 8,
   "id": "b110ff5e",
   "metadata": {},
   "outputs": [],
   "source": [
    "def status(*args,**kwargs):\n",
    "    print(args)\n",
    "    print(kwargs)"
   ]
  },
  {
   "cell_type": "code",
   "execution_count": 10,
   "id": "99522651",
   "metadata": {},
   "outputs": [
    {
     "name": "stdout",
     "output_type": "stream",
     "text": [
      "('Priyaranjan', 'Kar')\n",
      "{'age': 29, 'birthyear': 1994}\n"
     ]
    }
   ],
   "source": [
    "status('Priyaranjan','Kar',age=29,birthyear=1994)"
   ]
  },
  {
   "cell_type": "markdown",
   "id": "9df050bf",
   "metadata": {},
   "source": [
    "- The first input parameters are treated as positional arguments.\n",
    "- The last 2 input paramters are treated as keyword arguments.\n",
    "\n",
    "    #### NOTE :\n",
    "   - Positional argument : follow lists structure\n",
    "   - Keyword argument : follows dictionary structure ( as we provide a key-value pair)\n",
    "   \n",
    "### So, we can take our positional arguments into a list & keyword args as dictionary initially itself.\n",
    "   - We need to specify the list as positional args & dict as keyword args.\n"
   ]
  },
  {
   "cell_type": "code",
   "execution_count": 11,
   "id": "784d9023",
   "metadata": {},
   "outputs": [],
   "source": [
    "list1 = ['Priyaranjan','Kar']\n",
    "dict1 = {'age':29, 'birthyear': 1994}"
   ]
  },
  {
   "cell_type": "code",
   "execution_count": 14,
   "id": "3b2e7601",
   "metadata": {},
   "outputs": [
    {
     "name": "stdout",
     "output_type": "stream",
     "text": [
      "('Priyaranjan', 'Kar')\n",
      "{'age': 29, 'birthyear': 1994}\n"
     ]
    }
   ],
   "source": [
    "# Specifying the positional argument as * & keyword argument as **\n",
    "status(*list1,**dict1)"
   ]
  },
  {
   "cell_type": "markdown",
   "id": "e60fe066",
   "metadata": {},
   "source": [
    "# Lambda functions:\n",
    "- anonymous function: A function which doesnt have a name\n",
    "    - Very useful if we have single expression to be applied."
   ]
  },
  {
   "cell_type": "code",
   "execution_count": 17,
   "id": "af9d8361",
   "metadata": {},
   "outputs": [],
   "source": [
    "# storing the lambda function intoa variable\n",
    "add_formula = lambda a,b:a+b"
   ]
  },
  {
   "cell_type": "code",
   "execution_count": 16,
   "id": "1afe9ae6",
   "metadata": {},
   "outputs": [
    {
     "data": {
      "text/plain": [
       "26"
      ]
     },
     "execution_count": 16,
     "metadata": {},
     "output_type": "execute_result"
    }
   ],
   "source": [
    "add_formula(12,14)"
   ]
  },
  {
   "cell_type": "code",
   "execution_count": 27,
   "id": "6a82240c",
   "metadata": {},
   "outputs": [],
   "source": [
    "even_odd = lambda a: a%2==0"
   ]
  },
  {
   "cell_type": "code",
   "execution_count": 30,
   "id": "a92175c7",
   "metadata": {},
   "outputs": [
    {
     "data": {
      "text/plain": [
       "False"
      ]
     },
     "execution_count": 30,
     "metadata": {},
     "output_type": "execute_result"
    }
   ],
   "source": [
    "even_odd(23)"
   ]
  },
  {
   "cell_type": "markdown",
   "id": "292527d4",
   "metadata": {},
   "source": [
    "### Note :\n",
    "- Use Lambda functions only when we have a single expression to be applied."
   ]
  }
 ],
 "metadata": {
  "kernelspec": {
   "display_name": "Python 3 (ipykernel)",
   "language": "python",
   "name": "python3"
  },
  "language_info": {
   "codemirror_mode": {
    "name": "ipython",
    "version": 3
   },
   "file_extension": ".py",
   "mimetype": "text/x-python",
   "name": "python",
   "nbconvert_exporter": "python",
   "pygments_lexer": "ipython3",
   "version": "3.10.9"
  }
 },
 "nbformat": 4,
 "nbformat_minor": 5
}
