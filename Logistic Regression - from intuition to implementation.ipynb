{
 "cells": [
  {
   "cell_type": "markdown",
   "id": "6d178eee",
   "metadata": {},
   "source": [
    "# Logistic Regression :\n",
    "\n",
    "- It is a ***binary classification*** algorithm.\n",
    "\n",
    "## Geometric Intuition:\n",
    "\n",
    "- For linear regression, our objective was to create the best fit line for all the points using y= mx + c.\n",
    "    - We can define the threshold value & divide results into categores based on that.\n",
    "        - Why linear regression shouldn't be used for classsification then?\n",
    "            - Because if in future we get more outliers, the best fit line will change & so will my thresholds.\n",
    "\n",
    "\n",
    "- Hence, to tackle this problem, we have logistic regression which uses a sigmoid function.\n",
    "\n",
    "## Maths Intuition:\n",
    "\n",
    "- Assumptions: our straight line passes through origin ( c = 0 in y=mx+c)\n",
    "    - y = mx\n",
    "    - y = Beta1*x\n",
    "    - y = W^^T * x\n",
    "1. We calculate the distance between actual point & point on straight line.\n",
    "    - dist = ( W^^T * x ) / ||W||\n",
    "- Assumption: W is a unit vector. So, dist = W^^T * x .\n",
    "2. Points above the plane are postive & below are negative.\n",
    "    - y: +1 ( above the plane) ( Assume)\n",
    "    - y: -1 (below the plane) (Assume)\n",
    "    - distance from points above plane = +ve W^^T*x \n",
    "    - distance from points below plane = -ve W^^T*x\n",
    "    \n",
    "3. Now applying a formula : y * (W^^T * x).\n",
    "    - points above plane = +ve * +ve = +ve --------------------( if value positive, correctly classified)\n",
    "    - points below plane = -ve * -ve = +ve --------------------( if value positive, correctly classified)\n",
    "    - incorrect point below plane = +ve * -ve = -ve -----------( if value negative, correctly classified)\n",
    "    - incorrect point above plane = -ve * +ve = -ve -----------( if value negative, correctly classified)\n",
    "    \n",
    "    \n",
    "### So, Cost function or Optimizer = max(Summation (yi * W^^Ti*xi))\n",
    "\n",
    "- Hence, as we already know yi & xi , we only need to update the weight  W^^Ti getting maxmum summation of all points.\n",
    "    - This gives us the best fit line which separates classes linearly.\n",
    "        - But presence of outliers can just mess up the cost function for us resulting in wrong ' best fit line'.\n",
    "- So, we need to modify the cost function a bit.\n",
    "    - Applying a function with our cost function.\n",
    "        - f(cost function) to sigmoid function.\n",
    "        - sigmoid function : f(z) = 1/(1 + e^-z) which brings the value between 0 to +1.\n",
    "        - Hence , removing the effect of outlier.\n",
    "----------------------------------------------------------------\n",
    "\n",
    "## Can we use for multiclassification?\n",
    "- Yes, we can use logistic regression in case of multiple classification scenarios.\n",
    "    - One Vs Rest ( OVR approach):\n",
    "        - pick one class as one(+ve) * rest all classes as second class(-ve).\n",
    "        - internally it will create new columns for all classes each & assign +1 or -1 based on the above line.\n",
    "        - Then, based on input data, it will predict the probabilities of each of the class columns as above.\n",
    "            - Whichever class column gets the highest value, it will assign the input data to that class."
   ]
  },
  {
   "cell_type": "code",
   "execution_count": null,
   "id": "ff594cf5",
   "metadata": {},
   "outputs": [],
   "source": []
  },
  {
   "cell_type": "code",
   "execution_count": null,
   "id": "d0a9a4f4",
   "metadata": {},
   "outputs": [],
   "source": []
  },
  {
   "cell_type": "code",
   "execution_count": null,
   "id": "f6c6494f",
   "metadata": {},
   "outputs": [],
   "source": []
  },
  {
   "cell_type": "code",
   "execution_count": null,
   "id": "70c7c1fb",
   "metadata": {},
   "outputs": [],
   "source": []
  },
  {
   "cell_type": "code",
   "execution_count": null,
   "id": "d6641494",
   "metadata": {},
   "outputs": [],
   "source": []
  },
  {
   "cell_type": "code",
   "execution_count": null,
   "id": "b243b32b",
   "metadata": {},
   "outputs": [],
   "source": []
  },
  {
   "cell_type": "code",
   "execution_count": null,
   "id": "842a0a09",
   "metadata": {},
   "outputs": [],
   "source": []
  },
  {
   "cell_type": "code",
   "execution_count": null,
   "id": "e42d72b9",
   "metadata": {},
   "outputs": [],
   "source": []
  }
 ],
 "metadata": {
  "kernelspec": {
   "display_name": "Python 3 (ipykernel)",
   "language": "python",
   "name": "python3"
  },
  "language_info": {
   "codemirror_mode": {
    "name": "ipython",
    "version": 3
   },
   "file_extension": ".py",
   "mimetype": "text/x-python",
   "name": "python",
   "nbconvert_exporter": "python",
   "pygments_lexer": "ipython3",
   "version": "3.10.9"
  }
 },
 "nbformat": 4,
 "nbformat_minor": 5
}
