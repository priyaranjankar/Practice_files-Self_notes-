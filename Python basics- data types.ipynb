{
 "cells": [
  {
   "cell_type": "markdown",
   "id": "9ac9324b",
   "metadata": {},
   "source": [
    "# Python Basics"
   ]
  },
  {
   "cell_type": "markdown",
   "id": "16c6675e",
   "metadata": {},
   "source": [
    "### - Datatypes:"
   ]
  },
  {
   "cell_type": "markdown",
   "id": "7d790c38",
   "metadata": {},
   "source": [
    "#### Numbers:"
   ]
  },
  {
   "cell_type": "code",
   "execution_count": 1,
   "id": "2e7a1b28",
   "metadata": {},
   "outputs": [
    {
     "data": {
      "text/plain": [
       "27"
      ]
     },
     "execution_count": 1,
     "metadata": {},
     "output_type": "execute_result"
    }
   ],
   "source": [
    "12+15"
   ]
  },
  {
   "cell_type": "code",
   "execution_count": 2,
   "id": "78abd54a",
   "metadata": {},
   "outputs": [
    {
     "data": {
      "text/plain": [
       "1024"
      ]
     },
     "execution_count": 2,
     "metadata": {},
     "output_type": "execute_result"
    }
   ],
   "source": [
    "4**5"
   ]
  },
  {
   "cell_type": "code",
   "execution_count": 3,
   "id": "3cc4f4fe",
   "metadata": {},
   "outputs": [
    {
     "name": "stdout",
     "output_type": "stream",
     "text": [
      "My name is Priyaranjan and my last name is Kar\n"
     ]
    }
   ],
   "source": [
    "print(\"My name is {} and my last name is {}\".format(\"Priyaranjan\", \"Kar\"))"
   ]
  },
  {
   "cell_type": "markdown",
   "id": "1a6d9c41",
   "metadata": {},
   "source": [
    "## Python Data Structures and Boolean\n",
    "\n",
    "- boolean\n",
    "- Boolean & logical operators\n",
    "- lists\n",
    "- Comparisn operators\n",
    "- Dictionaries\n",
    "- Tuples\n",
    "- Sets"
   ]
  },
  {
   "cell_type": "code",
   "execution_count": 4,
   "id": "e51cf8e0",
   "metadata": {},
   "outputs": [
    {
     "data": {
      "text/plain": [
       "bool"
      ]
     },
     "execution_count": 4,
     "metadata": {},
     "output_type": "execute_result"
    }
   ],
   "source": [
    "type(True)"
   ]
  },
  {
   "cell_type": "code",
   "execution_count": 5,
   "id": "f7f5a3ee",
   "metadata": {},
   "outputs": [],
   "source": [
    "my_str = \"priyaranjan kar\""
   ]
  },
  {
   "cell_type": "code",
   "execution_count": 6,
   "id": "0e1c9a9b",
   "metadata": {},
   "outputs": [
    {
     "data": {
      "text/plain": [
       "'Priyaranjan kar'"
      ]
     },
     "execution_count": 6,
     "metadata": {},
     "output_type": "execute_result"
    }
   ],
   "source": [
    "my_str.capitalize()"
   ]
  },
  {
   "cell_type": "code",
   "execution_count": 7,
   "id": "1f75e79e",
   "metadata": {},
   "outputs": [
    {
     "data": {
      "text/plain": [
       "False"
      ]
     },
     "execution_count": 7,
     "metadata": {},
     "output_type": "execute_result"
    }
   ],
   "source": [
    "my_str.isalnum()"
   ]
  },
  {
   "cell_type": "markdown",
   "id": "05c0c830",
   "metadata": {},
   "source": [
    "Boolean & logical operators"
   ]
  },
  {
   "cell_type": "code",
   "execution_count": 8,
   "id": "a02f15dc",
   "metadata": {},
   "outputs": [
    {
     "data": {
      "text/plain": [
       "False"
      ]
     },
     "execution_count": 8,
     "metadata": {},
     "output_type": "execute_result"
    }
   ],
   "source": [
    "True and False"
   ]
  },
  {
   "cell_type": "code",
   "execution_count": 9,
   "id": "ebf14beb",
   "metadata": {},
   "outputs": [
    {
     "data": {
      "text/plain": [
       "True"
      ]
     },
     "execution_count": 9,
     "metadata": {},
     "output_type": "execute_result"
    }
   ],
   "source": [
    "True or False"
   ]
  },
  {
   "cell_type": "code",
   "execution_count": 10,
   "id": "de2c05de",
   "metadata": {},
   "outputs": [
    {
     "data": {
      "text/plain": [
       "True"
      ]
     },
     "execution_count": 10,
     "metadata": {},
     "output_type": "execute_result"
    }
   ],
   "source": [
    "True or True"
   ]
  },
  {
   "cell_type": "markdown",
   "id": "9688b6cc",
   "metadata": {},
   "source": [
    "Lists"
   ]
  },
  {
   "cell_type": "code",
   "execution_count": 11,
   "id": "3d0b1a07",
   "metadata": {},
   "outputs": [],
   "source": [
    "list_example = []"
   ]
  },
  {
   "cell_type": "code",
   "execution_count": 12,
   "id": "cb992a1e",
   "metadata": {},
   "outputs": [
    {
     "data": {
      "text/plain": [
       "list"
      ]
     },
     "execution_count": 12,
     "metadata": {},
     "output_type": "execute_result"
    }
   ],
   "source": [
    "type(list_example)"
   ]
  },
  {
   "cell_type": "code",
   "execution_count": 13,
   "id": "0659c5e8",
   "metadata": {},
   "outputs": [],
   "source": [
    "list1 = list()"
   ]
  },
  {
   "cell_type": "code",
   "execution_count": 14,
   "id": "d404a625",
   "metadata": {},
   "outputs": [
    {
     "data": {
      "text/plain": [
       "list"
      ]
     },
     "execution_count": 14,
     "metadata": {},
     "output_type": "execute_result"
    }
   ],
   "source": [
    "type(list1)"
   ]
  },
  {
   "cell_type": "code",
   "execution_count": 15,
   "id": "e099a619",
   "metadata": {},
   "outputs": [
    {
     "data": {
      "text/plain": [
       "5"
      ]
     },
     "execution_count": 15,
     "metadata": {},
     "output_type": "execute_result"
    }
   ],
   "source": [
    "list1 = ['Brewed', 'Django', '123', 123, 45]\n",
    "len(list1)"
   ]
  },
  {
   "cell_type": "markdown",
   "id": "3a215a66",
   "metadata": {},
   "source": [
    "Append - On list"
   ]
  },
  {
   "cell_type": "code",
   "execution_count": 16,
   "id": "7e072bd3",
   "metadata": {},
   "outputs": [
    {
     "data": {
      "text/plain": [
       "['Brewed', 'Django', '123', 123, 45, 'Noice!']"
      ]
     },
     "execution_count": 16,
     "metadata": {},
     "output_type": "execute_result"
    }
   ],
   "source": [
    "list1.append(\"Noice!\")\n",
    "list1"
   ]
  },
  {
   "cell_type": "code",
   "execution_count": 17,
   "id": "b2e9b728",
   "metadata": {},
   "outputs": [
    {
     "data": {
      "text/plain": [
       "'Noice!'"
      ]
     },
     "execution_count": 17,
     "metadata": {},
     "output_type": "execute_result"
    }
   ],
   "source": [
    "list1[5]"
   ]
  },
  {
   "cell_type": "code",
   "execution_count": 18,
   "id": "3c5b4e4f",
   "metadata": {},
   "outputs": [
    {
     "data": {
      "text/plain": [
       "['Django', '123', 123]"
      ]
     },
     "execution_count": 18,
     "metadata": {},
     "output_type": "execute_result"
    }
   ],
   "source": [
    "list1[1:4]"
   ]
  },
  {
   "cell_type": "code",
   "execution_count": 19,
   "id": "d7452a36",
   "metadata": {},
   "outputs": [
    {
     "data": {
      "text/plain": [
       "['Brewed', 'Django', '123', 123]"
      ]
     },
     "execution_count": 19,
     "metadata": {},
     "output_type": "execute_result"
    }
   ],
   "source": [
    "list1[:4]"
   ]
  },
  {
   "cell_type": "markdown",
   "id": "3a21bada",
   "metadata": {},
   "source": [
    "Append- on list"
   ]
  },
  {
   "cell_type": "code",
   "execution_count": 20,
   "id": "70cc2c1a",
   "metadata": {},
   "outputs": [
    {
     "data": {
      "text/plain": [
       "['Brewed', 'Django', '123', 123, 45, 'Noice!', ['Jamie', 'Oliver']]"
      ]
     },
     "execution_count": 20,
     "metadata": {},
     "output_type": "execute_result"
    }
   ],
   "source": [
    "list1.append(['Jamie',\"Oliver\"])\n",
    "list1"
   ]
  },
  {
   "cell_type": "markdown",
   "id": "0b874829",
   "metadata": {},
   "source": [
    "Insert - on list"
   ]
  },
  {
   "cell_type": "code",
   "execution_count": 21,
   "id": "1911860e",
   "metadata": {},
   "outputs": [
    {
     "data": {
      "text/plain": [
       "['Brewed', 'Django', '123', 123, 'Ruhi', 45, 'Noice!', ['Jamie', 'Oliver']]"
      ]
     },
     "execution_count": 21,
     "metadata": {},
     "output_type": "execute_result"
    }
   ],
   "source": [
    "list1.insert(4,'Ruhi')\n",
    "list1"
   ]
  },
  {
   "cell_type": "markdown",
   "id": "080c257e",
   "metadata": {},
   "source": [
    "Extend - on list"
   ]
  },
  {
   "cell_type": "code",
   "execution_count": 22,
   "id": "8c187be6",
   "metadata": {},
   "outputs": [
    {
     "data": {
      "text/plain": [
       "['Brewed',\n",
       " 'Django',\n",
       " '123',\n",
       " 123,\n",
       " 'Ruhi',\n",
       " 45,\n",
       " 'Noice!',\n",
       " ['Jamie', 'Oliver'],\n",
       " '1',\n",
       " '2']"
      ]
     },
     "execution_count": 22,
     "metadata": {},
     "output_type": "execute_result"
    }
   ],
   "source": [
    "list1.extend(['1','2'])\n",
    "list1"
   ]
  },
  {
   "cell_type": "code",
   "execution_count": 23,
   "id": "ca596419",
   "metadata": {},
   "outputs": [
    {
     "data": {
      "text/plain": [
       "['Brewed',\n",
       " 'Django',\n",
       " '123',\n",
       " 123,\n",
       " 'Ruhi',\n",
       " 45,\n",
       " 'Noice!',\n",
       " ['Jamie', 'Oliver'],\n",
       " '1',\n",
       " '2',\n",
       " 'Jamie',\n",
       " 'Oliver']"
      ]
     },
     "execution_count": 23,
     "metadata": {},
     "output_type": "execute_result"
    }
   ],
   "source": [
    "list1.extend(list1[7])\n",
    "list1"
   ]
  },
  {
   "cell_type": "code",
   "execution_count": 24,
   "id": "65fef430",
   "metadata": {},
   "outputs": [
    {
     "data": {
      "text/plain": [
       "123"
      ]
     },
     "execution_count": 24,
     "metadata": {},
     "output_type": "execute_result"
    }
   ],
   "source": [
    "list1.pop(3)"
   ]
  },
  {
   "cell_type": "code",
   "execution_count": 25,
   "id": "3f852613",
   "metadata": {},
   "outputs": [
    {
     "data": {
      "text/plain": [
       "['Brewed',\n",
       " 'Django',\n",
       " '123',\n",
       " 'Ruhi',\n",
       " 45,\n",
       " 'Noice!',\n",
       " ['Jamie', 'Oliver'],\n",
       " '1',\n",
       " '2',\n",
       " 'Jamie',\n",
       " 'Oliver']"
      ]
     },
     "execution_count": 25,
     "metadata": {},
     "output_type": "execute_result"
    }
   ],
   "source": [
    "list1"
   ]
  },
  {
   "cell_type": "code",
   "execution_count": 26,
   "id": "3557d4d8",
   "metadata": {},
   "outputs": [
    {
     "data": {
      "text/plain": [
       "2"
      ]
     },
     "execution_count": 26,
     "metadata": {},
     "output_type": "execute_result"
    }
   ],
   "source": [
    "list1.index('123', 2, 7)"
   ]
  },
  {
   "cell_type": "code",
   "execution_count": 27,
   "id": "8844e7be",
   "metadata": {},
   "outputs": [],
   "source": [
    "numbers = [1, 2, 3, 4, 5, 6, 7, 8, 9, 10]"
   ]
  },
  {
   "cell_type": "code",
   "execution_count": 28,
   "id": "c040596c",
   "metadata": {},
   "outputs": [
    {
     "data": {
      "text/plain": [
       "[2, 4, 6, 8, 10]"
      ]
     },
     "execution_count": 28,
     "metadata": {},
     "output_type": "execute_result"
    }
   ],
   "source": [
    "numbers_even = list()\n",
    "for i in numbers:\n",
    "    if i%2 == 0:\n",
    "        numbers_even.append(i)\n",
    "\n",
    "numbers_even"
   ]
  },
  {
   "cell_type": "code",
   "execution_count": 29,
   "id": "89d6f3d2",
   "metadata": {},
   "outputs": [
    {
     "data": {
      "text/plain": [
       "[1, 2, 3, 4, 5, 6]"
      ]
     },
     "execution_count": 29,
     "metadata": {},
     "output_type": "execute_result"
    }
   ],
   "source": [
    "list1 = [1, 2, 3]\n",
    "list2 = [4, 5, 6]\n",
    "\n",
    "list1.extend(list2)\n",
    "list1\n"
   ]
  },
  {
   "cell_type": "code",
   "execution_count": 30,
   "id": "f79c749a",
   "metadata": {},
   "outputs": [
    {
     "data": {
      "text/plain": [
       "['apple', 'banana', 'orange', 'grape']"
      ]
     },
     "execution_count": 30,
     "metadata": {},
     "output_type": "execute_result"
    }
   ],
   "source": [
    "fruits = ['apple', 'banana', 'orange', 'grape', 'kiwi']\n",
    "del fruits[-1]\n",
    "fruits"
   ]
  },
  {
   "cell_type": "code",
   "execution_count": 31,
   "id": "77624f57",
   "metadata": {},
   "outputs": [
    {
     "name": "stdout",
     "output_type": "stream",
     "text": [
      "no\n"
     ]
    }
   ],
   "source": [
    "numbers = [10, 20, 30, 40, 50]\n",
    "if '25' in numbers:\n",
    "    print('yes')\n",
    "else:\n",
    "    print('no')\n",
    "        "
   ]
  },
  {
   "cell_type": "markdown",
   "id": "3be50233",
   "metadata": {},
   "source": [
    "## SETS"
   ]
  },
  {
   "cell_type": "code",
   "execution_count": 32,
   "id": "10288b88",
   "metadata": {},
   "outputs": [
    {
     "data": {
      "text/plain": [
       "{'Bucky', 'Cap', 'Hulk'}"
      ]
     },
     "execution_count": 32,
     "metadata": {},
     "output_type": "execute_result"
    }
   ],
   "source": [
    "set1 = {'Avengers', 'Iron Man', 'Tenora', 'friye'}\n",
    "set2 = {'Hulk', 'Cap', 'Bucky', 'Tenora', 'friye', 'Avengers'}\n",
    "\n",
    "set2.difference(set1)"
   ]
  },
  {
   "cell_type": "code",
   "execution_count": 33,
   "id": "b4463e20",
   "metadata": {},
   "outputs": [
    {
     "data": {
      "text/plain": [
       "False"
      ]
     },
     "execution_count": 33,
     "metadata": {},
     "output_type": "execute_result"
    }
   ],
   "source": [
    "set1.isdisjoint(set2)"
   ]
  },
  {
   "cell_type": "markdown",
   "id": "f20f5dc8",
   "metadata": {},
   "source": [
    "As, we have common elements in sets."
   ]
  },
  {
   "cell_type": "code",
   "execution_count": 34,
   "id": "21250e3a",
   "metadata": {},
   "outputs": [
    {
     "data": {
      "text/plain": [
       "{'Avengers', 'Iron Man', 'Tenora'}"
      ]
     },
     "execution_count": 34,
     "metadata": {},
     "output_type": "execute_result"
    }
   ],
   "source": [
    "set1.discard('friye')\n",
    "set1"
   ]
  },
  {
   "cell_type": "markdown",
   "id": "fb808b85",
   "metadata": {},
   "source": [
    "Removes the element in set."
   ]
  },
  {
   "cell_type": "code",
   "execution_count": 35,
   "id": "152219e5",
   "metadata": {},
   "outputs": [
    {
     "data": {
      "text/plain": [
       "{'Avengers', 'Iron Man', 'Tenora', 'friye'}"
      ]
     },
     "execution_count": 35,
     "metadata": {},
     "output_type": "execute_result"
    }
   ],
   "source": [
    "set1.add('friye')\n",
    "set1"
   ]
  },
  {
   "cell_type": "code",
   "execution_count": 36,
   "id": "7bfbfede",
   "metadata": {},
   "outputs": [
    {
     "data": {
      "text/plain": [
       "{'Avengers', 'Iron Man', 'Tenora', 'friye'}"
      ]
     },
     "execution_count": 36,
     "metadata": {},
     "output_type": "execute_result"
    }
   ],
   "source": [
    "set3 = set1.copy()\n",
    "set3"
   ]
  },
  {
   "cell_type": "code",
   "execution_count": 37,
   "id": "8c1d13d5",
   "metadata": {},
   "outputs": [
    {
     "data": {
      "text/plain": [
       "{'Iron Man'}"
      ]
     },
     "execution_count": 37,
     "metadata": {},
     "output_type": "execute_result"
    }
   ],
   "source": [
    "set1.difference(set2)"
   ]
  },
  {
   "cell_type": "code",
   "execution_count": 38,
   "id": "fedacea9",
   "metadata": {},
   "outputs": [],
   "source": [
    "set1.difference_update(set2)"
   ]
  },
  {
   "cell_type": "code",
   "execution_count": 39,
   "id": "53f68edb",
   "metadata": {},
   "outputs": [
    {
     "data": {
      "text/plain": [
       "{'Iron Man'}"
      ]
     },
     "execution_count": 39,
     "metadata": {},
     "output_type": "execute_result"
    }
   ],
   "source": [
    "set1"
   ]
  },
  {
   "cell_type": "markdown",
   "id": "b20cf955",
   "metadata": {},
   "source": [
    "This function deletes the common elemnets from first set. - USEFUL!!"
   ]
  },
  {
   "cell_type": "code",
   "execution_count": 40,
   "id": "411e4e1c",
   "metadata": {},
   "outputs": [
    {
     "data": {
      "text/plain": [
       "{'Avengers', 'Bucky', 'Cap', 'Hulk', 'Tenora', 'friye'}"
      ]
     },
     "execution_count": 40,
     "metadata": {},
     "output_type": "execute_result"
    }
   ],
   "source": [
    "set2"
   ]
  },
  {
   "cell_type": "code",
   "execution_count": 41,
   "id": "382a8ee6",
   "metadata": {},
   "outputs": [
    {
     "data": {
      "text/plain": [
       "{'Avengers', 'Bucky', 'Iron Man', 'Tenora'}"
      ]
     },
     "execution_count": 41,
     "metadata": {},
     "output_type": "execute_result"
    }
   ],
   "source": [
    "set1.update({'Bucky', 'Avengers', 'Tenora'})\n",
    "set1"
   ]
  },
  {
   "cell_type": "code",
   "execution_count": 42,
   "id": "9658738e",
   "metadata": {},
   "outputs": [
    {
     "data": {
      "text/plain": [
       "{'Avengers', 'Bucky', 'Tenora'}"
      ]
     },
     "execution_count": 42,
     "metadata": {},
     "output_type": "execute_result"
    }
   ],
   "source": [
    "set1.intersection(set2)"
   ]
  },
  {
   "cell_type": "markdown",
   "id": "bc0d4956",
   "metadata": {},
   "source": [
    "Returns the common elements in both sets from first set.- USEFUL!!!"
   ]
  },
  {
   "cell_type": "code",
   "execution_count": 43,
   "id": "d7780b19",
   "metadata": {},
   "outputs": [
    {
     "data": {
      "text/plain": [
       "{'Iron Man'}"
      ]
     },
     "execution_count": 43,
     "metadata": {},
     "output_type": "execute_result"
    }
   ],
   "source": [
    "set1.difference(set2)"
   ]
  },
  {
   "cell_type": "markdown",
   "id": "3d346f40",
   "metadata": {},
   "source": [
    "Returns the uncommon elements in first set. - USEFUL!!!!"
   ]
  },
  {
   "cell_type": "code",
   "execution_count": 44,
   "id": "2df4acaa",
   "metadata": {},
   "outputs": [
    {
     "data": {
      "text/plain": [
       "False"
      ]
     },
     "execution_count": 44,
     "metadata": {},
     "output_type": "execute_result"
    }
   ],
   "source": [
    "set1.isdisjoint(set2)"
   ]
  },
  {
   "cell_type": "markdown",
   "id": "efced633",
   "metadata": {},
   "source": [
    "Returns boolean true or false, checks if both sets have any common element- if yes - false, else true"
   ]
  },
  {
   "cell_type": "code",
   "execution_count": 45,
   "id": "937e2ff2",
   "metadata": {},
   "outputs": [
    {
     "data": {
      "text/plain": [
       "False"
      ]
     },
     "execution_count": 45,
     "metadata": {},
     "output_type": "execute_result"
    }
   ],
   "source": [
    "set2.issubset(set1)"
   ]
  },
  {
   "cell_type": "code",
   "execution_count": 46,
   "id": "7a1045f4",
   "metadata": {},
   "outputs": [
    {
     "data": {
      "text/plain": [
       "False"
      ]
     },
     "execution_count": 46,
     "metadata": {},
     "output_type": "execute_result"
    }
   ],
   "source": [
    "set1.issuperset(set2)"
   ]
  },
  {
   "cell_type": "code",
   "execution_count": 47,
   "id": "193f018f",
   "metadata": {},
   "outputs": [],
   "source": [
    "set4 = {1,2,3,4,5,'565','lkhj','no', 'france'}"
   ]
  },
  {
   "cell_type": "code",
   "execution_count": 48,
   "id": "1e5cdb16",
   "metadata": {},
   "outputs": [
    {
     "data": {
      "text/plain": [
       "1"
      ]
     },
     "execution_count": 48,
     "metadata": {},
     "output_type": "execute_result"
    }
   ],
   "source": [
    "set4.pop()"
   ]
  },
  {
   "cell_type": "markdown",
   "id": "17d8a865",
   "metadata": {},
   "source": [
    "This is interesting. it pops out random elements."
   ]
  },
  {
   "cell_type": "code",
   "execution_count": 49,
   "id": "d8533d61",
   "metadata": {},
   "outputs": [
    {
     "data": {
      "text/plain": [
       "{'Avengers', 'Bucky', 'Cap', 'Hulk', 'Tenora', 'friye'}"
      ]
     },
     "execution_count": 49,
     "metadata": {},
     "output_type": "execute_result"
    }
   ],
   "source": [
    "set5 = set2.copy()\n",
    "set5"
   ]
  },
  {
   "cell_type": "code",
   "execution_count": 50,
   "id": "f9adda5d",
   "metadata": {},
   "outputs": [
    {
     "data": {
      "text/plain": [
       "{'Avengers', 'Bucky', 'Cap', 'Hulk', 'Tenora'}"
      ]
     },
     "execution_count": 50,
     "metadata": {},
     "output_type": "execute_result"
    }
   ],
   "source": [
    "set5.remove('friye')\n",
    "set5"
   ]
  },
  {
   "cell_type": "markdown",
   "id": "80e105cf",
   "metadata": {},
   "source": [
    "Removes elements by their value from set.- USEFUL!!!"
   ]
  },
  {
   "cell_type": "code",
   "execution_count": 51,
   "id": "7e4f47a6",
   "metadata": {},
   "outputs": [],
   "source": [
    "set6 = {'Avengers', 'Hulk', 'Tenora', 'Senora'}"
   ]
  },
  {
   "cell_type": "code",
   "execution_count": 52,
   "id": "ea9da8ed",
   "metadata": {},
   "outputs": [
    {
     "data": {
      "text/plain": [
       "{'Bucky', 'Cap', 'Senora'}"
      ]
     },
     "execution_count": 52,
     "metadata": {},
     "output_type": "execute_result"
    }
   ],
   "source": [
    "set5.symmetric_difference(set6)"
   ]
  },
  {
   "cell_type": "code",
   "execution_count": 53,
   "id": "02bba13c",
   "metadata": {},
   "outputs": [
    {
     "data": {
      "text/plain": [
       "{'Avengers', 'Bucky', 'Cap', 'Hulk', 'Tenora', 'codm', 'pubg', 'ytu'}"
      ]
     },
     "execution_count": 53,
     "metadata": {},
     "output_type": "execute_result"
    }
   ],
   "source": [
    "set7 = {'ytu', 'pubg', 'codm'}\n",
    "set5.symmetric_difference(set7)"
   ]
  },
  {
   "cell_type": "markdown",
   "id": "888e54c1",
   "metadata": {},
   "source": [
    "Returns all uncommon elements from both sets - USEFUL!!!!!!!!!!!!\n",
    "- so for disjoint sets, it acts as adding elements. - NOTE!!"
   ]
  },
  {
   "cell_type": "code",
   "execution_count": 54,
   "id": "b5003e3e",
   "metadata": {},
   "outputs": [
    {
     "data": {
      "text/plain": [
       "{'Avengers', 'Bucky', 'Cap', 'Hulk', 'Tenora', 'codm', 'pubg', 'ytu'}"
      ]
     },
     "execution_count": 54,
     "metadata": {},
     "output_type": "execute_result"
    }
   ],
   "source": [
    "set5.symmetric_difference_update(set7)\n",
    "set5"
   ]
  },
  {
   "cell_type": "code",
   "execution_count": 55,
   "id": "59d573be",
   "metadata": {},
   "outputs": [
    {
     "data": {
      "text/plain": [
       "{'Modi', 'Sbose', 'codm', 'gujarat', 'pubg'}"
      ]
     },
     "execution_count": 55,
     "metadata": {},
     "output_type": "execute_result"
    }
   ],
   "source": [
    "set8 = {'gujarat', 'Modi', 'Sbose','ytu'}\n",
    "set7.symmetric_difference_update(set8)\n",
    "set7"
   ]
  },
  {
   "cell_type": "code",
   "execution_count": 56,
   "id": "97ef062a",
   "metadata": {},
   "outputs": [
    {
     "data": {
      "text/plain": [
       "{'codm', 'pubg', 'ytu'}"
      ]
     },
     "execution_count": 56,
     "metadata": {},
     "output_type": "execute_result"
    }
   ],
   "source": [
    "set8.symmetric_difference_update(set7)\n",
    "set8"
   ]
  },
  {
   "cell_type": "markdown",
   "id": "231f35df",
   "metadata": {},
   "source": [
    "For disjoint sets, adds all elements from second into first.\n",
    "For others, returns the uncommon elements from both."
   ]
  },
  {
   "cell_type": "code",
   "execution_count": 58,
   "id": "64e7b5be",
   "metadata": {},
   "outputs": [
    {
     "data": {
      "text/plain": [
       "{'Avengers', 'Bucky', 'Cap', 'Hulk', 'Tenora', 'codm', 'pubg', 'ytu'}"
      ]
     },
     "execution_count": 58,
     "metadata": {},
     "output_type": "execute_result"
    }
   ],
   "source": [
    "set5"
   ]
  },
  {
   "cell_type": "code",
   "execution_count": 59,
   "id": "47d94732",
   "metadata": {},
   "outputs": [
    {
     "data": {
      "text/plain": [
       "{'codm', 'pubg', 'ytu'}"
      ]
     },
     "execution_count": 59,
     "metadata": {},
     "output_type": "execute_result"
    }
   ],
   "source": [
    "set8"
   ]
  },
  {
   "cell_type": "code",
   "execution_count": 61,
   "id": "19d83090",
   "metadata": {},
   "outputs": [
    {
     "data": {
      "text/plain": [
       "{'Modi', 'Sbose', 'codm', 'gujarat', 'pubg', 'ytu'}"
      ]
     },
     "execution_count": 61,
     "metadata": {},
     "output_type": "execute_result"
    }
   ],
   "source": [
    "set8.union(set7)"
   ]
  },
  {
   "cell_type": "code",
   "execution_count": 63,
   "id": "9fe4c24d",
   "metadata": {},
   "outputs": [
    {
     "data": {
      "text/plain": [
       "{'Modi', 'Sbose', 'codm', 'gujarat', 'pubg'}"
      ]
     },
     "execution_count": 63,
     "metadata": {},
     "output_type": "execute_result"
    }
   ],
   "source": [
    "set7"
   ]
  },
  {
   "cell_type": "markdown",
   "id": "69bc8ded",
   "metadata": {},
   "source": [
    "Returns all the unique elements from both sets. - USEFUL!!!!"
   ]
  },
  {
   "cell_type": "code",
   "execution_count": 64,
   "id": "50e9bdd7",
   "metadata": {},
   "outputs": [],
   "source": [
    "set7.update(set8)"
   ]
  },
  {
   "cell_type": "code",
   "execution_count": 65,
   "id": "faa4de11",
   "metadata": {},
   "outputs": [
    {
     "data": {
      "text/plain": [
       "{'Modi', 'Sbose', 'codm', 'gujarat', 'pubg', 'ytu'}"
      ]
     },
     "execution_count": 65,
     "metadata": {},
     "output_type": "execute_result"
    }
   ],
   "source": [
    "set7"
   ]
  },
  {
   "cell_type": "markdown",
   "id": "b6f78e46",
   "metadata": {},
   "source": [
    "updates the first set with uncommon elements from second set. - USEFUL!!!!"
   ]
  },
  {
   "cell_type": "markdown",
   "id": "aa2ceb3c",
   "metadata": {},
   "source": [
    "## Dictionaries"
   ]
  },
  {
   "cell_type": "markdown",
   "id": "bfa8614b",
   "metadata": {},
   "source": [
    "unordered, collection, key-value pairs."
   ]
  },
  {
   "cell_type": "code",
   "execution_count": 73,
   "id": "29a757e4",
   "metadata": {},
   "outputs": [
    {
     "data": {
      "text/plain": [
       "dict_keys(['car', 'brand'])"
      ]
     },
     "execution_count": 73,
     "metadata": {},
     "output_type": "execute_result"
    }
   ],
   "source": [
    "dict1 = {'car':'evoque', 'brand':'rangerover'}\n",
    "dict1.keys()"
   ]
  },
  {
   "cell_type": "code",
   "execution_count": 74,
   "id": "6e025e87",
   "metadata": {},
   "outputs": [
    {
     "data": {
      "text/plain": [
       "'evoque'"
      ]
     },
     "execution_count": 74,
     "metadata": {},
     "output_type": "execute_result"
    }
   ],
   "source": [
    "dict1['car']"
   ]
  },
  {
   "cell_type": "code",
   "execution_count": 78,
   "id": "f44fffd7",
   "metadata": {},
   "outputs": [
    {
     "data": {
      "text/plain": [
       "dict_values(['evoque', 'rangerover'])"
      ]
     },
     "execution_count": 78,
     "metadata": {},
     "output_type": "execute_result"
    }
   ],
   "source": [
    "dict1.values()"
   ]
  },
  {
   "cell_type": "code",
   "execution_count": 79,
   "id": "d0be6511",
   "metadata": {},
   "outputs": [
    {
     "name": "stdout",
     "output_type": "stream",
     "text": [
      "evoque\n",
      "rangerover\n"
     ]
    }
   ],
   "source": [
    "for x in dict1.items():\n",
    "    print(x[1])"
   ]
  },
  {
   "cell_type": "code",
   "execution_count": 80,
   "id": "2b13324a",
   "metadata": {},
   "outputs": [
    {
     "name": "stdout",
     "output_type": "stream",
     "text": [
      "car\n",
      "brand\n"
     ]
    }
   ],
   "source": [
    "for x in dict1.items():\n",
    "    print(x[0])"
   ]
  },
  {
   "cell_type": "markdown",
   "id": "4c047355",
   "metadata": {},
   "source": [
    "Accesses both the key & value by index 0 & 1."
   ]
  },
  {
   "cell_type": "code",
   "execution_count": 81,
   "id": "ce43e078",
   "metadata": {},
   "outputs": [
    {
     "data": {
      "text/plain": [
       "{'car': 'evoque', 'brand': 'rangerover', 'color': 'black'}"
      ]
     },
     "execution_count": 81,
     "metadata": {},
     "output_type": "execute_result"
    }
   ],
   "source": [
    "dict1['color']='black'\n",
    "dict1"
   ]
  },
  {
   "cell_type": "markdown",
   "id": "b61fbf4e",
   "metadata": {},
   "source": [
    "Returns with updated dictionary with key & value added if not present, if present - modified."
   ]
  },
  {
   "cell_type": "markdown",
   "id": "fdaa17f6",
   "metadata": {},
   "source": [
    "## Nested dictionary"
   ]
  },
  {
   "cell_type": "code",
   "execution_count": 82,
   "id": "78d55710",
   "metadata": {},
   "outputs": [
    {
     "data": {
      "text/plain": [
       "{'car1': {'Audi': 'R8'},\n",
       " 'car2': {'Mercedes': 'AMG'},\n",
       " 'car3': {'RangeRover': 'Evoque'},\n",
       " 'car4': {'Porsche': 'Cayman'}}"
      ]
     },
     "execution_count": 82,
     "metadata": {},
     "output_type": "execute_result"
    }
   ],
   "source": [
    "car1 = {'Audi':'R8'}\n",
    "car2 = {'Mercedes':'AMG'}\n",
    "car3 = {'RangeRover':'Evoque'}\n",
    "car4 = {'Porsche':'Cayman'}\n",
    "\n",
    "car_dict = {'car1':car1, 'car2':car2, 'car3':car3, 'car4':car4}\n",
    "car_dict"
   ]
  },
  {
   "cell_type": "code",
   "execution_count": 89,
   "id": "966ec956",
   "metadata": {},
   "outputs": [
    {
     "data": {
      "text/plain": [
       "{'RangeRover': 'Evoque'}"
      ]
     },
     "execution_count": 89,
     "metadata": {},
     "output_type": "execute_result"
    }
   ],
   "source": [
    "car_dict[['car3'][0]]"
   ]
  },
  {
   "cell_type": "code",
   "execution_count": 90,
   "id": "2df5efc4",
   "metadata": {},
   "outputs": [
    {
     "name": "stdout",
     "output_type": "stream",
     "text": [
      "Evoque\n"
     ]
    }
   ],
   "source": [
    "print(car_dict['car3']['RangeRover'])"
   ]
  },
  {
   "cell_type": "markdown",
   "id": "41fb18ed",
   "metadata": {},
   "source": [
    "It returns me the value of the keys given as input. Doesnt take index position as arguement"
   ]
  },
  {
   "cell_type": "markdown",
   "id": "c1ed0fee",
   "metadata": {},
   "source": [
    "## Tuples"
   ]
  },
  {
   "cell_type": "code",
   "execution_count": 91,
   "id": "a729abba",
   "metadata": {},
   "outputs": [
    {
     "data": {
      "text/plain": [
       "('RangeRover', 'Evoque', 'S-Class')"
      ]
     },
     "execution_count": 91,
     "metadata": {},
     "output_type": "execute_result"
    }
   ],
   "source": [
    "tuple1 = ('RangeRover', 'Evoque', 'S-Class')\n",
    "tuple1"
   ]
  },
  {
   "cell_type": "code",
   "execution_count": 98,
   "id": "1f6b8325",
   "metadata": {},
   "outputs": [
    {
     "data": {
      "text/plain": [
       "'S-Class'"
      ]
     },
     "execution_count": 98,
     "metadata": {},
     "output_type": "execute_result"
    }
   ],
   "source": [
    "tuple1[-1]"
   ]
  },
  {
   "cell_type": "code",
   "execution_count": 99,
   "id": "da1caacf",
   "metadata": {},
   "outputs": [
    {
     "ename": "TypeError",
     "evalue": "'type' object does not support item assignment",
     "output_type": "error",
     "traceback": [
      "\u001b[1;31m---------------------------------------------------------------------------\u001b[0m",
      "\u001b[1;31mTypeError\u001b[0m                                 Traceback (most recent call last)",
      "Cell \u001b[1;32mIn[99], line 1\u001b[0m\n\u001b[1;32m----> 1\u001b[0m \u001b[38;5;28mtuple\u001b[39m[\u001b[38;5;241m0\u001b[39m]\u001b[38;5;241m=\u001b[39m\u001b[38;5;124m'\u001b[39m\u001b[38;5;124mgallardo\u001b[39m\u001b[38;5;124m'\u001b[39m\n",
      "\u001b[1;31mTypeError\u001b[0m: 'type' object does not support item assignment"
     ]
    }
   ],
   "source": [
    "tuple[0]='gallardo'"
   ]
  },
  {
   "cell_type": "code",
   "execution_count": 100,
   "id": "77a010a5",
   "metadata": {},
   "outputs": [
    {
     "data": {
      "text/plain": [
       "2"
      ]
     },
     "execution_count": 100,
     "metadata": {},
     "output_type": "execute_result"
    }
   ],
   "source": [
    "tuple1.index('S-Class')"
   ]
  },
  {
   "cell_type": "markdown",
   "id": "2032d4ad",
   "metadata": {},
   "source": [
    "immutable , stores the index positions. cant change individual element , but the total tuple itself."
   ]
  }
 ],
 "metadata": {
  "kernelspec": {
   "display_name": "Python 3 (ipykernel)",
   "language": "python",
   "name": "python3"
  },
  "language_info": {
   "codemirror_mode": {
    "name": "ipython",
    "version": 3
   },
   "file_extension": ".py",
   "mimetype": "text/x-python",
   "name": "python",
   "nbconvert_exporter": "python",
   "pygments_lexer": "ipython3",
   "version": "3.10.9"
  }
 },
 "nbformat": 4,
 "nbformat_minor": 5
}
