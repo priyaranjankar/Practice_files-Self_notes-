{
 "cells": [
  {
   "cell_type": "markdown",
   "id": "8e6a5618",
   "metadata": {},
   "source": [
    "# Public, Protected, Private"
   ]
  },
  {
   "cell_type": "code",
   "execution_count": 5,
   "id": "3f07d031",
   "metadata": {},
   "outputs": [],
   "source": [
    "# Public class\n",
    "# Class blueprint\n",
    "\n",
    "class car():\n",
    "    # defining constructor\n",
    "    def __init__(self,windows,doors,enginetype):\n",
    "        self.windows = windows\n",
    "        self.doors = doors\n",
    "        self.engine_type = enginetype\n",
    "    \n",
    "    def drive(self):\n",
    "        print('The person drives the car')"
   ]
  },
  {
   "cell_type": "code",
   "execution_count": 7,
   "id": "3ec7d6b6",
   "metadata": {},
   "outputs": [],
   "source": [
    "audi=car(4,5,'petrol')"
   ]
  },
  {
   "cell_type": "code",
   "execution_count": 8,
   "id": "d474ef99",
   "metadata": {},
   "outputs": [
    {
     "data": {
      "text/plain": [
       "['__class__',\n",
       " '__delattr__',\n",
       " '__dict__',\n",
       " '__dir__',\n",
       " '__doc__',\n",
       " '__eq__',\n",
       " '__format__',\n",
       " '__ge__',\n",
       " '__getattribute__',\n",
       " '__gt__',\n",
       " '__hash__',\n",
       " '__init__',\n",
       " '__init_subclass__',\n",
       " '__le__',\n",
       " '__lt__',\n",
       " '__module__',\n",
       " '__ne__',\n",
       " '__new__',\n",
       " '__reduce__',\n",
       " '__reduce_ex__',\n",
       " '__repr__',\n",
       " '__setattr__',\n",
       " '__sizeof__',\n",
       " '__str__',\n",
       " '__subclasshook__',\n",
       " '__weakref__',\n",
       " 'doors',\n",
       " 'drive',\n",
       " 'engine_type',\n",
       " 'windows']"
      ]
     },
     "execution_count": 8,
     "metadata": {},
     "output_type": "execute_result"
    }
   ],
   "source": [
    "dir(audi)"
   ]
  },
  {
   "cell_type": "markdown",
   "id": "86249587",
   "metadata": {},
   "source": [
    "### Public class: can be accessed & modified from anywhere (outside & inside the child class)\n",
    "- \"no underscore provided\" ( in this case: doors,windows, drive, engine_type)\n",
    "- these attributes values can be modified directly( any value can be provided )"
   ]
  },
  {
   "cell_type": "markdown",
   "id": "022dbbf0",
   "metadata": {},
   "source": [
    "# Protected class"
   ]
  },
  {
   "cell_type": "code",
   "execution_count": 28,
   "id": "8276ecdd",
   "metadata": {},
   "outputs": [],
   "source": [
    "#Protected class\n",
    "\n",
    "# Class blueprint\n",
    "\n",
    "class car():\n",
    "    # defining constructor\n",
    "    def __init__(self,windows,doors,enginetype):\n",
    "        self._windows = windows\n",
    "        self._doors = doors\n",
    "        self._enginetype = enginetype\n",
    "    \n",
    "    def _drive_(self):\n",
    "        print('The person drives the car')"
   ]
  },
  {
   "cell_type": "code",
   "execution_count": 29,
   "id": "2fc58de5",
   "metadata": {},
   "outputs": [],
   "source": [
    "audi=car(4,5,'petrol')"
   ]
  },
  {
   "cell_type": "code",
   "execution_count": 30,
   "id": "7357e547",
   "metadata": {},
   "outputs": [
    {
     "data": {
      "text/plain": [
       "['__class__',\n",
       " '__delattr__',\n",
       " '__dict__',\n",
       " '__dir__',\n",
       " '__doc__',\n",
       " '__eq__',\n",
       " '__format__',\n",
       " '__ge__',\n",
       " '__getattribute__',\n",
       " '__gt__',\n",
       " '__hash__',\n",
       " '__init__',\n",
       " '__init_subclass__',\n",
       " '__le__',\n",
       " '__lt__',\n",
       " '__module__',\n",
       " '__ne__',\n",
       " '__new__',\n",
       " '__reduce__',\n",
       " '__reduce_ex__',\n",
       " '__repr__',\n",
       " '__setattr__',\n",
       " '__sizeof__',\n",
       " '__str__',\n",
       " '__subclasshook__',\n",
       " '__weakref__',\n",
       " '_doors',\n",
       " '_drive_',\n",
       " '_enginetype',\n",
       " '_windows']"
      ]
     },
     "execution_count": 30,
     "metadata": {},
     "output_type": "execute_result"
    }
   ],
   "source": [
    "dir(audi)"
   ]
  },
  {
   "cell_type": "code",
   "execution_count": 37,
   "id": "00f08471",
   "metadata": {},
   "outputs": [],
   "source": [
    "audi._windows = 6"
   ]
  },
  {
   "cell_type": "code",
   "execution_count": 41,
   "id": "0af52e92",
   "metadata": {},
   "outputs": [
    {
     "data": {
      "text/plain": [
       "6"
      ]
     },
     "execution_count": 41,
     "metadata": {},
     "output_type": "execute_result"
    }
   ],
   "source": [
    "audi._windows"
   ]
  },
  {
   "cell_type": "markdown",
   "id": "9d5d2ab7",
   "metadata": {},
   "source": [
    "### Protected class : Can be accessed & modified within the class ( by child class)\n",
    "- 1 underscore used '_ class'\n",
    "- these attributes values can be modifed by only child classes ( objects inheriting this class)\n",
    "    - in our case, we are using audi as an object inheriting this class & providing our values\n",
    "    - we did specify windows to be of value 4 while instantiating but we can still change the values outside of the class.\n",
    "        - How? : In Python, over-riding the protected attributes is allowed as differed to in other languages(ABAP).\n",
    "\n",
    "Lets see a better example of running this."
   ]
  },
  {
   "cell_type": "code",
   "execution_count": 31,
   "id": "f3ba4d43",
   "metadata": {},
   "outputs": [],
   "source": [
    "#Protected class\n",
    "\n",
    "# Class blueprint\n",
    "\n",
    "class car():\n",
    "    # defining constructor\n",
    "    def __init__(self,windows,doors,enginetype):\n",
    "        self._windows = windows\n",
    "        self._doors = doors\n",
    "        self._enginetype = enginetype\n",
    "class truck(car):\n",
    "    def __init__(self,windows,doors,enginetype,horsepower):\n",
    "        super().__init__(windows,doors,enginetype)\n",
    "        self.horsepower = horsepower"
   ]
  },
  {
   "cell_type": "code",
   "execution_count": 32,
   "id": "d2080db8",
   "metadata": {},
   "outputs": [],
   "source": [
    "truck = truck(4,5,'diesel',3500)"
   ]
  },
  {
   "cell_type": "code",
   "execution_count": 33,
   "id": "215141eb",
   "metadata": {},
   "outputs": [
    {
     "data": {
      "text/plain": [
       "['__class__',\n",
       " '__delattr__',\n",
       " '__dict__',\n",
       " '__dir__',\n",
       " '__doc__',\n",
       " '__eq__',\n",
       " '__format__',\n",
       " '__ge__',\n",
       " '__getattribute__',\n",
       " '__gt__',\n",
       " '__hash__',\n",
       " '__init__',\n",
       " '__init_subclass__',\n",
       " '__le__',\n",
       " '__lt__',\n",
       " '__module__',\n",
       " '__ne__',\n",
       " '__new__',\n",
       " '__reduce__',\n",
       " '__reduce_ex__',\n",
       " '__repr__',\n",
       " '__setattr__',\n",
       " '__sizeof__',\n",
       " '__str__',\n",
       " '__subclasshook__',\n",
       " '__weakref__',\n",
       " '_doors',\n",
       " '_enginetype',\n",
       " '_windows',\n",
       " 'horsepower']"
      ]
     },
     "execution_count": 33,
     "metadata": {},
     "output_type": "execute_result"
    }
   ],
   "source": [
    "dir(truck)"
   ]
  },
  {
   "cell_type": "code",
   "execution_count": 39,
   "id": "af04b9b4",
   "metadata": {},
   "outputs": [],
   "source": [
    "truck._windows = 5"
   ]
  },
  {
   "cell_type": "code",
   "execution_count": 40,
   "id": "ded8935a",
   "metadata": {},
   "outputs": [
    {
     "data": {
      "text/plain": [
       "5"
      ]
     },
     "execution_count": 40,
     "metadata": {},
     "output_type": "execute_result"
    }
   ],
   "source": [
    "truck._windows"
   ]
  },
  {
   "cell_type": "markdown",
   "id": "442f849b",
   "metadata": {},
   "source": [
    "Here we instantiated a child class: 'truck' inheriting from superclass car.\n",
    "- we made the 3 paramters doors, windows, enginetype as protected.\n",
    "- when we tried to change the attribute values, we can see it is allowing us to do.\n",
    "\n",
    "    So, when child class 'truck' tried to change the protected class attributes in the class 'car'; it was allowed in python since 'truck' is a *$child-class$*."
   ]
  },
  {
   "cell_type": "markdown",
   "id": "11c66845",
   "metadata": {},
   "source": [
    "# Private class"
   ]
  },
  {
   "cell_type": "code",
   "execution_count": 49,
   "id": "664dc51d",
   "metadata": {},
   "outputs": [],
   "source": [
    "#Private class\n",
    "\n",
    "# Class blueprint\n",
    "\n",
    "class car():\n",
    "    # defining constructor\n",
    "    def __init__(self,windows,doors,enginetype):\n",
    "        self.__windows = windows\n",
    "        self.__doors = doors\n",
    "        self.__enginetype = enginetype"
   ]
  },
  {
   "cell_type": "code",
   "execution_count": 50,
   "id": "c2e4e734",
   "metadata": {},
   "outputs": [
    {
     "data": {
      "text/plain": [
       "['__class__',\n",
       " '__delattr__',\n",
       " '__dict__',\n",
       " '__dir__',\n",
       " '__doc__',\n",
       " '__eq__',\n",
       " '__format__',\n",
       " '__ge__',\n",
       " '__getattribute__',\n",
       " '__gt__',\n",
       " '__hash__',\n",
       " '__init__',\n",
       " '__init_subclass__',\n",
       " '__le__',\n",
       " '__lt__',\n",
       " '__module__',\n",
       " '__ne__',\n",
       " '__new__',\n",
       " '__reduce__',\n",
       " '__reduce_ex__',\n",
       " '__repr__',\n",
       " '__setattr__',\n",
       " '__sizeof__',\n",
       " '__str__',\n",
       " '__subclasshook__',\n",
       " '__weakref__',\n",
       " '_car__doors',\n",
       " '_car__enginetype',\n",
       " '_car__windows']"
      ]
     },
     "execution_count": 50,
     "metadata": {},
     "output_type": "execute_result"
    }
   ],
   "source": [
    "audi=car(4,4,'Diesel')\n",
    "dir(audi)"
   ]
  },
  {
   "cell_type": "code",
   "execution_count": 51,
   "id": "3420a243",
   "metadata": {},
   "outputs": [
    {
     "data": {
      "text/plain": [
       "4"
      ]
     },
     "execution_count": 51,
     "metadata": {},
     "output_type": "execute_result"
    }
   ],
   "source": [
    "audi._car__doors"
   ]
  },
  {
   "cell_type": "code",
   "execution_count": 52,
   "id": "31a224d8",
   "metadata": {},
   "outputs": [
    {
     "data": {
      "text/plain": [
       "7"
      ]
     },
     "execution_count": 52,
     "metadata": {},
     "output_type": "execute_result"
    }
   ],
   "source": [
    "audi._car__doors = 7\n",
    "audi._car__doors"
   ]
  },
  {
   "cell_type": "markdown",
   "id": "a902ddb7",
   "metadata": {},
   "source": [
    "### Private class: can not be accessed & modified from anywhere.\n",
    "- Thsi class is supposed to be hidden in directory. \n",
    "    - It uses double underscore '__ class'\n",
    "    - These attributes cannot be changed either from inside the sub-class or outside of the class itself.\n",
    "    \n",
    "- Here, the private attributes defined were 'doors', 'windows' 'enginetype' in class 'car'.\n",
    "    - Although the sub-class 'audi' inherits the class 'car', it cannot change the values for the private attributes."
   ]
  },
  {
   "cell_type": "markdown",
   "id": "693ba34f",
   "metadata": {},
   "source": [
    "### *How are we changing it then?*\n",
    "\n",
    "### NOTE:\n",
    "#### In Python, no restrictions exist for the modification rules of classes but we need to be sure to follow these rules for an optimized code.\n",
    "\n",
    "##### Summary:\n",
    "\n",
    "- Public class: can be accessed & modified from anywhere.\n",
    "- Protected class: can be accesses & modified only within the child classes.\n",
    "- Private class: cannot be accessed & modified from anywhere."
   ]
  },
  {
   "cell_type": "code",
   "execution_count": null,
   "id": "6e913987",
   "metadata": {},
   "outputs": [],
   "source": []
  }
 ],
 "metadata": {
  "kernelspec": {
   "display_name": "Python 3 (ipykernel)",
   "language": "python",
   "name": "python3"
  },
  "language_info": {
   "codemirror_mode": {
    "name": "ipython",
    "version": 3
   },
   "file_extension": ".py",
   "mimetype": "text/x-python",
   "name": "python",
   "nbconvert_exporter": "python",
   "pygments_lexer": "ipython3",
   "version": "3.10.9"
  }
 },
 "nbformat": 4,
 "nbformat_minor": 5
}
